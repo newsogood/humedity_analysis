{
 "cells": [
  {
   "attachments": {},
   "cell_type": "markdown",
   "metadata": {},
   "source": [
    "## Library"
   ]
  },
  {
   "cell_type": "code",
   "execution_count": 433,
   "metadata": {},
   "outputs": [],
   "source": [
    "import matplotlib.pyplot as plt\n",
    "import plotly.express as px\n",
    "import seaborn as sns\n",
    "import pandas as pd\n",
    "import numpy as np\n",
    "import math\n",
    "import os"
   ]
  },
  {
   "attachments": {},
   "cell_type": "markdown",
   "metadata": {},
   "source": [
    "## Dataset location"
   ]
  },
  {
   "cell_type": "code",
   "execution_count": 86,
   "metadata": {},
   "outputs": [],
   "source": [
    "curr_path = os.getcwd()\n",
    "\n",
    "humed_dataset_folder = 'dataset'\n",
    "sub_irr_1_name = \"1st_sub_irrigation.csv\"\n",
    "sub_irr_2_name = \"2nd_sub_irrigation.csv\"\n",
    "surf_wat_name = \"soil_surface_watering.csv\"\n",
    "\n",
    "sub_irr_1_path = os.path.join(curr_path, humed_dataset_folder, sub_irr_1_name)\n",
    "sub_irr_2_path = os.path.join(curr_path, humed_dataset_folder, sub_irr_2_name)\n",
    "surf_wat_path = os.path.join(curr_path, humed_dataset_folder, surf_wat_name)"
   ]
  },
  {
   "attachments": {},
   "cell_type": "markdown",
   "metadata": {},
   "source": [
    "## Overall detail of the dataset"
   ]
  },
  {
   "cell_type": "code",
   "execution_count": 87,
   "metadata": {},
   "outputs": [],
   "source": [
    "sub_irr_1 = pd.read_csv(sub_irr_1_path)\n",
    "sub_irr_2 = pd.read_csv(sub_irr_2_path)\n",
    "surf_wat = pd.read_csv(surf_wat_path)"
   ]
  },
  {
   "cell_type": "code",
   "execution_count": 88,
   "metadata": {},
   "outputs": [
    {
     "data": {
      "text/html": [
       "<div>\n",
       "<style scoped>\n",
       "    .dataframe tbody tr th:only-of-type {\n",
       "        vertical-align: middle;\n",
       "    }\n",
       "\n",
       "    .dataframe tbody tr th {\n",
       "        vertical-align: top;\n",
       "    }\n",
       "\n",
       "    .dataframe thead th {\n",
       "        text-align: right;\n",
       "    }\n",
       "</style>\n",
       "<table border=\"1\" class=\"dataframe\">\n",
       "  <thead>\n",
       "    <tr style=\"text-align: right;\">\n",
       "      <th></th>\n",
       "      <th>diff_time</th>\n",
       "      <th>water_level</th>\n",
       "      <th>humd_1</th>\n",
       "      <th>humd_2</th>\n",
       "      <th>humd_3</th>\n",
       "      <th>humd_4</th>\n",
       "      <th>humd_5</th>\n",
       "      <th>humd_6</th>\n",
       "      <th>humd_7</th>\n",
       "      <th>humd_8</th>\n",
       "      <th>humd_9</th>\n",
       "    </tr>\n",
       "  </thead>\n",
       "  <tbody>\n",
       "    <tr>\n",
       "      <th>count</th>\n",
       "      <td>780.000000</td>\n",
       "      <td>780.000000</td>\n",
       "      <td>780.000000</td>\n",
       "      <td>780.000000</td>\n",
       "      <td>780.000000</td>\n",
       "      <td>780.000000</td>\n",
       "      <td>780.000000</td>\n",
       "      <td>780.000000</td>\n",
       "      <td>780.000000</td>\n",
       "      <td>780.000000</td>\n",
       "      <td>780.000000</td>\n",
       "    </tr>\n",
       "    <tr>\n",
       "      <th>mean</th>\n",
       "      <td>340.124359</td>\n",
       "      <td>15.077673</td>\n",
       "      <td>100.528818</td>\n",
       "      <td>101.705600</td>\n",
       "      <td>101.643930</td>\n",
       "      <td>92.295378</td>\n",
       "      <td>92.962422</td>\n",
       "      <td>94.597743</td>\n",
       "      <td>97.727967</td>\n",
       "      <td>91.528741</td>\n",
       "      <td>92.898629</td>\n",
       "    </tr>\n",
       "    <tr>\n",
       "      <th>std</th>\n",
       "      <td>1075.759695</td>\n",
       "      <td>0.208855</td>\n",
       "      <td>1.553117</td>\n",
       "      <td>2.268595</td>\n",
       "      <td>0.591669</td>\n",
       "      <td>1.972653</td>\n",
       "      <td>1.727075</td>\n",
       "      <td>4.317774</td>\n",
       "      <td>3.202770</td>\n",
       "      <td>0.844631</td>\n",
       "      <td>3.410718</td>\n",
       "    </tr>\n",
       "    <tr>\n",
       "      <th>min</th>\n",
       "      <td>271.000000</td>\n",
       "      <td>14.641690</td>\n",
       "      <td>98.728700</td>\n",
       "      <td>48.084780</td>\n",
       "      <td>99.926510</td>\n",
       "      <td>91.068790</td>\n",
       "      <td>92.068240</td>\n",
       "      <td>90.977230</td>\n",
       "      <td>90.672060</td>\n",
       "      <td>73.757690</td>\n",
       "      <td>90.694950</td>\n",
       "    </tr>\n",
       "    <tr>\n",
       "      <th>25%</th>\n",
       "      <td>299.000000</td>\n",
       "      <td>14.869710</td>\n",
       "      <td>98.995730</td>\n",
       "      <td>101.524875</td>\n",
       "      <td>101.254030</td>\n",
       "      <td>91.389220</td>\n",
       "      <td>92.388670</td>\n",
       "      <td>91.358700</td>\n",
       "      <td>95.970675</td>\n",
       "      <td>91.473140</td>\n",
       "      <td>91.229000</td>\n",
       "    </tr>\n",
       "    <tr>\n",
       "      <th>50%</th>\n",
       "      <td>300.000000</td>\n",
       "      <td>15.130720</td>\n",
       "      <td>100.044770</td>\n",
       "      <td>101.986450</td>\n",
       "      <td>101.734680</td>\n",
       "      <td>91.511290</td>\n",
       "      <td>92.487850</td>\n",
       "      <td>91.724910</td>\n",
       "      <td>98.408260</td>\n",
       "      <td>91.694400</td>\n",
       "      <td>91.499845</td>\n",
       "    </tr>\n",
       "    <tr>\n",
       "      <th>75%</th>\n",
       "      <td>301.000000</td>\n",
       "      <td>15.261440</td>\n",
       "      <td>102.108520</td>\n",
       "      <td>102.558650</td>\n",
       "      <td>102.057018</td>\n",
       "      <td>91.724910</td>\n",
       "      <td>92.649978</td>\n",
       "      <td>96.689742</td>\n",
       "      <td>100.338500</td>\n",
       "      <td>91.854610</td>\n",
       "      <td>92.030090</td>\n",
       "    </tr>\n",
       "    <tr>\n",
       "      <th>max</th>\n",
       "      <td>30337.000000</td>\n",
       "      <td>15.441180</td>\n",
       "      <td>103.039310</td>\n",
       "      <td>103.207150</td>\n",
       "      <td>102.535770</td>\n",
       "      <td>98.057310</td>\n",
       "      <td>101.658390</td>\n",
       "      <td>103.474180</td>\n",
       "      <td>102.520510</td>\n",
       "      <td>92.831180</td>\n",
       "      <td>103.115600</td>\n",
       "    </tr>\n",
       "  </tbody>\n",
       "</table>\n",
       "</div>"
      ],
      "text/plain": [
       "          diff_time  water_level      humd_1      humd_2      humd_3  \\\n",
       "count    780.000000   780.000000  780.000000  780.000000  780.000000   \n",
       "mean     340.124359    15.077673  100.528818  101.705600  101.643930   \n",
       "std     1075.759695     0.208855    1.553117    2.268595    0.591669   \n",
       "min      271.000000    14.641690   98.728700   48.084780   99.926510   \n",
       "25%      299.000000    14.869710   98.995730  101.524875  101.254030   \n",
       "50%      300.000000    15.130720  100.044770  101.986450  101.734680   \n",
       "75%      301.000000    15.261440  102.108520  102.558650  102.057018   \n",
       "max    30337.000000    15.441180  103.039310  103.207150  102.535770   \n",
       "\n",
       "           humd_4      humd_5      humd_6      humd_7      humd_8      humd_9  \n",
       "count  780.000000  780.000000  780.000000  780.000000  780.000000  780.000000  \n",
       "mean    92.295378   92.962422   94.597743   97.727967   91.528741   92.898629  \n",
       "std      1.972653    1.727075    4.317774    3.202770    0.844631    3.410718  \n",
       "min     91.068790   92.068240   90.977230   90.672060   73.757690   90.694950  \n",
       "25%     91.389220   92.388670   91.358700   95.970675   91.473140   91.229000  \n",
       "50%     91.511290   92.487850   91.724910   98.408260   91.694400   91.499845  \n",
       "75%     91.724910   92.649978   96.689742  100.338500   91.854610   92.030090  \n",
       "max     98.057310  101.658390  103.474180  102.520510   92.831180  103.115600  "
      ]
     },
     "execution_count": 88,
     "metadata": {},
     "output_type": "execute_result"
    }
   ],
   "source": [
    "sub_irr_1.describe()"
   ]
  },
  {
   "cell_type": "code",
   "execution_count": 89,
   "metadata": {},
   "outputs": [
    {
     "data": {
      "text/html": [
       "<div>\n",
       "<style scoped>\n",
       "    .dataframe tbody tr th:only-of-type {\n",
       "        vertical-align: middle;\n",
       "    }\n",
       "\n",
       "    .dataframe tbody tr th {\n",
       "        vertical-align: top;\n",
       "    }\n",
       "\n",
       "    .dataframe thead th {\n",
       "        text-align: right;\n",
       "    }\n",
       "</style>\n",
       "<table border=\"1\" class=\"dataframe\">\n",
       "  <thead>\n",
       "    <tr style=\"text-align: right;\">\n",
       "      <th></th>\n",
       "      <th>diff_time</th>\n",
       "      <th>water_level</th>\n",
       "      <th>humd_1</th>\n",
       "      <th>humd_2</th>\n",
       "      <th>humd_3</th>\n",
       "      <th>humd_4</th>\n",
       "      <th>humd_5</th>\n",
       "      <th>humd_6</th>\n",
       "      <th>humd_7</th>\n",
       "      <th>humd_8</th>\n",
       "      <th>humd_9</th>\n",
       "    </tr>\n",
       "  </thead>\n",
       "  <tbody>\n",
       "    <tr>\n",
       "      <th>count</th>\n",
       "      <td>214.000000</td>\n",
       "      <td>214.000000</td>\n",
       "      <td>214.000000</td>\n",
       "      <td>214.000000</td>\n",
       "      <td>214.000000</td>\n",
       "      <td>214.000000</td>\n",
       "      <td>214.000000</td>\n",
       "      <td>214.000000</td>\n",
       "      <td>214.000000</td>\n",
       "      <td>214.000000</td>\n",
       "      <td>214.000000</td>\n",
       "    </tr>\n",
       "    <tr>\n",
       "      <th>mean</th>\n",
       "      <td>323.612150</td>\n",
       "      <td>29.881168</td>\n",
       "      <td>99.086140</td>\n",
       "      <td>101.287113</td>\n",
       "      <td>102.537833</td>\n",
       "      <td>91.858394</td>\n",
       "      <td>92.811031</td>\n",
       "      <td>91.840391</td>\n",
       "      <td>97.187098</td>\n",
       "      <td>92.000535</td>\n",
       "      <td>91.620812</td>\n",
       "    </tr>\n",
       "    <tr>\n",
       "      <th>std</th>\n",
       "      <td>256.985457</td>\n",
       "      <td>0.129181</td>\n",
       "      <td>1.033107</td>\n",
       "      <td>2.459887</td>\n",
       "      <td>0.070490</td>\n",
       "      <td>0.076719</td>\n",
       "      <td>0.061622</td>\n",
       "      <td>0.096279</td>\n",
       "      <td>1.164997</td>\n",
       "      <td>0.034492</td>\n",
       "      <td>0.158840</td>\n",
       "    </tr>\n",
       "    <tr>\n",
       "      <th>min</th>\n",
       "      <td>295.000000</td>\n",
       "      <td>29.542170</td>\n",
       "      <td>85.125490</td>\n",
       "      <td>86.384340</td>\n",
       "      <td>102.421330</td>\n",
       "      <td>91.747800</td>\n",
       "      <td>92.709110</td>\n",
       "      <td>91.694400</td>\n",
       "      <td>96.188110</td>\n",
       "      <td>91.915650</td>\n",
       "      <td>91.122190</td>\n",
       "    </tr>\n",
       "    <tr>\n",
       "      <th>25%</th>\n",
       "      <td>300.000000</td>\n",
       "      <td>29.795180</td>\n",
       "      <td>99.108262</td>\n",
       "      <td>99.112075</td>\n",
       "      <td>102.474730</td>\n",
       "      <td>91.793580</td>\n",
       "      <td>92.754880</td>\n",
       "      <td>91.763060</td>\n",
       "      <td>96.495198</td>\n",
       "      <td>91.976680</td>\n",
       "      <td>91.572330</td>\n",
       "    </tr>\n",
       "    <tr>\n",
       "      <th>50%</th>\n",
       "      <td>300.000000</td>\n",
       "      <td>29.867470</td>\n",
       "      <td>99.262760</td>\n",
       "      <td>102.963010</td>\n",
       "      <td>102.543400</td>\n",
       "      <td>91.808840</td>\n",
       "      <td>92.777770</td>\n",
       "      <td>91.846980</td>\n",
       "      <td>96.569580</td>\n",
       "      <td>92.007200</td>\n",
       "      <td>91.648620</td>\n",
       "    </tr>\n",
       "    <tr>\n",
       "      <th>75%</th>\n",
       "      <td>301.000000</td>\n",
       "      <td>29.963860</td>\n",
       "      <td>99.377200</td>\n",
       "      <td>103.016420</td>\n",
       "      <td>102.573910</td>\n",
       "      <td>91.938540</td>\n",
       "      <td>92.869320</td>\n",
       "      <td>91.915650</td>\n",
       "      <td>98.019162</td>\n",
       "      <td>92.030090</td>\n",
       "      <td>91.732540</td>\n",
       "    </tr>\n",
       "    <tr>\n",
       "      <th>max</th>\n",
       "      <td>3967.000000</td>\n",
       "      <td>30.209230</td>\n",
       "      <td>99.575560</td>\n",
       "      <td>103.207150</td>\n",
       "      <td>102.795170</td>\n",
       "      <td>91.976680</td>\n",
       "      <td>92.922730</td>\n",
       "      <td>91.976680</td>\n",
       "      <td>100.018070</td>\n",
       "      <td>92.068240</td>\n",
       "      <td>91.808840</td>\n",
       "    </tr>\n",
       "  </tbody>\n",
       "</table>\n",
       "</div>"
      ],
      "text/plain": [
       "         diff_time  water_level      humd_1      humd_2      humd_3  \\\n",
       "count   214.000000   214.000000  214.000000  214.000000  214.000000   \n",
       "mean    323.612150    29.881168   99.086140  101.287113  102.537833   \n",
       "std     256.985457     0.129181    1.033107    2.459887    0.070490   \n",
       "min     295.000000    29.542170   85.125490   86.384340  102.421330   \n",
       "25%     300.000000    29.795180   99.108262   99.112075  102.474730   \n",
       "50%     300.000000    29.867470   99.262760  102.963010  102.543400   \n",
       "75%     301.000000    29.963860   99.377200  103.016420  102.573910   \n",
       "max    3967.000000    30.209230   99.575560  103.207150  102.795170   \n",
       "\n",
       "           humd_4      humd_5      humd_6      humd_7      humd_8      humd_9  \n",
       "count  214.000000  214.000000  214.000000  214.000000  214.000000  214.000000  \n",
       "mean    91.858394   92.811031   91.840391   97.187098   92.000535   91.620812  \n",
       "std      0.076719    0.061622    0.096279    1.164997    0.034492    0.158840  \n",
       "min     91.747800   92.709110   91.694400   96.188110   91.915650   91.122190  \n",
       "25%     91.793580   92.754880   91.763060   96.495198   91.976680   91.572330  \n",
       "50%     91.808840   92.777770   91.846980   96.569580   92.007200   91.648620  \n",
       "75%     91.938540   92.869320   91.915650   98.019162   92.030090   91.732540  \n",
       "max     91.976680   92.922730   91.976680  100.018070   92.068240   91.808840  "
      ]
     },
     "execution_count": 89,
     "metadata": {},
     "output_type": "execute_result"
    }
   ],
   "source": [
    "sub_irr_2.describe()"
   ]
  },
  {
   "cell_type": "code",
   "execution_count": 90,
   "metadata": {},
   "outputs": [
    {
     "data": {
      "text/html": [
       "<div>\n",
       "<style scoped>\n",
       "    .dataframe tbody tr th:only-of-type {\n",
       "        vertical-align: middle;\n",
       "    }\n",
       "\n",
       "    .dataframe tbody tr th {\n",
       "        vertical-align: top;\n",
       "    }\n",
       "\n",
       "    .dataframe thead th {\n",
       "        text-align: right;\n",
       "    }\n",
       "</style>\n",
       "<table border=\"1\" class=\"dataframe\">\n",
       "  <thead>\n",
       "    <tr style=\"text-align: right;\">\n",
       "      <th></th>\n",
       "      <th>diff_time</th>\n",
       "      <th>water_level</th>\n",
       "      <th>humd_1</th>\n",
       "      <th>humd_2</th>\n",
       "      <th>humd_3</th>\n",
       "      <th>humd_4</th>\n",
       "      <th>humd_5</th>\n",
       "      <th>humd_6</th>\n",
       "      <th>humd_7</th>\n",
       "      <th>humd_8</th>\n",
       "      <th>humd_9</th>\n",
       "    </tr>\n",
       "  </thead>\n",
       "  <tbody>\n",
       "    <tr>\n",
       "      <th>count</th>\n",
       "      <td>181.000000</td>\n",
       "      <td>181.000000</td>\n",
       "      <td>181.000000</td>\n",
       "      <td>181.000000</td>\n",
       "      <td>181.000000</td>\n",
       "      <td>181.000000</td>\n",
       "      <td>181.000000</td>\n",
       "      <td>181.000000</td>\n",
       "      <td>181.000000</td>\n",
       "      <td>181.000000</td>\n",
       "      <td>181.000000</td>\n",
       "    </tr>\n",
       "    <tr>\n",
       "      <th>mean</th>\n",
       "      <td>304.171271</td>\n",
       "      <td>3.101543</td>\n",
       "      <td>98.342508</td>\n",
       "      <td>103.719165</td>\n",
       "      <td>99.371592</td>\n",
       "      <td>91.960245</td>\n",
       "      <td>91.899084</td>\n",
       "      <td>91.887577</td>\n",
       "      <td>93.653254</td>\n",
       "      <td>98.188403</td>\n",
       "      <td>90.494390</td>\n",
       "    </tr>\n",
       "    <tr>\n",
       "      <th>std</th>\n",
       "      <td>84.861446</td>\n",
       "      <td>1.192116</td>\n",
       "      <td>2.651619</td>\n",
       "      <td>1.821695</td>\n",
       "      <td>3.485152</td>\n",
       "      <td>0.214669</td>\n",
       "      <td>6.581559</td>\n",
       "      <td>0.220489</td>\n",
       "      <td>6.830869</td>\n",
       "      <td>6.639710</td>\n",
       "      <td>5.149556</td>\n",
       "    </tr>\n",
       "    <tr>\n",
       "      <th>min</th>\n",
       "      <td>15.000000</td>\n",
       "      <td>1.978570</td>\n",
       "      <td>80.105350</td>\n",
       "      <td>79.792540</td>\n",
       "      <td>91.229000</td>\n",
       "      <td>91.679140</td>\n",
       "      <td>14.263670</td>\n",
       "      <td>91.663880</td>\n",
       "      <td>54.493470</td>\n",
       "      <td>57.636780</td>\n",
       "      <td>55.409000</td>\n",
       "    </tr>\n",
       "    <tr>\n",
       "      <th>25%</th>\n",
       "      <td>299.000000</td>\n",
       "      <td>2.203570</td>\n",
       "      <td>95.737980</td>\n",
       "      <td>103.657290</td>\n",
       "      <td>97.141780</td>\n",
       "      <td>91.778320</td>\n",
       "      <td>92.678590</td>\n",
       "      <td>91.740170</td>\n",
       "      <td>92.670960</td>\n",
       "      <td>95.974490</td>\n",
       "      <td>90.977230</td>\n",
       "    </tr>\n",
       "    <tr>\n",
       "      <th>50%</th>\n",
       "      <td>300.000000</td>\n",
       "      <td>2.412500</td>\n",
       "      <td>98.537960</td>\n",
       "      <td>104.015870</td>\n",
       "      <td>99.781560</td>\n",
       "      <td>91.900390</td>\n",
       "      <td>92.777770</td>\n",
       "      <td>91.785950</td>\n",
       "      <td>94.761410</td>\n",
       "      <td>96.104190</td>\n",
       "      <td>91.541810</td>\n",
       "    </tr>\n",
       "    <tr>\n",
       "      <th>75%</th>\n",
       "      <td>301.000000</td>\n",
       "      <td>4.614290</td>\n",
       "      <td>100.781010</td>\n",
       "      <td>104.115050</td>\n",
       "      <td>102.551030</td>\n",
       "      <td>92.251340</td>\n",
       "      <td>93.121090</td>\n",
       "      <td>92.197940</td>\n",
       "      <td>97.149410</td>\n",
       "      <td>104.038760</td>\n",
       "      <td>91.801210</td>\n",
       "    </tr>\n",
       "    <tr>\n",
       "      <th>max</th>\n",
       "      <td>1369.000000</td>\n",
       "      <td>5.472970</td>\n",
       "      <td>101.398990</td>\n",
       "      <td>104.290530</td>\n",
       "      <td>102.802800</td>\n",
       "      <td>92.335270</td>\n",
       "      <td>93.182130</td>\n",
       "      <td>92.243710</td>\n",
       "      <td>99.682370</td>\n",
       "      <td>104.755920</td>\n",
       "      <td>91.877500</td>\n",
       "    </tr>\n",
       "  </tbody>\n",
       "</table>\n",
       "</div>"
      ],
      "text/plain": [
       "         diff_time  water_level      humd_1      humd_2      humd_3  \\\n",
       "count   181.000000   181.000000  181.000000  181.000000  181.000000   \n",
       "mean    304.171271     3.101543   98.342508  103.719165   99.371592   \n",
       "std      84.861446     1.192116    2.651619    1.821695    3.485152   \n",
       "min      15.000000     1.978570   80.105350   79.792540   91.229000   \n",
       "25%     299.000000     2.203570   95.737980  103.657290   97.141780   \n",
       "50%     300.000000     2.412500   98.537960  104.015870   99.781560   \n",
       "75%     301.000000     4.614290  100.781010  104.115050  102.551030   \n",
       "max    1369.000000     5.472970  101.398990  104.290530  102.802800   \n",
       "\n",
       "           humd_4      humd_5      humd_6      humd_7      humd_8      humd_9  \n",
       "count  181.000000  181.000000  181.000000  181.000000  181.000000  181.000000  \n",
       "mean    91.960245   91.899084   91.887577   93.653254   98.188403   90.494390  \n",
       "std      0.214669    6.581559    0.220489    6.830869    6.639710    5.149556  \n",
       "min     91.679140   14.263670   91.663880   54.493470   57.636780   55.409000  \n",
       "25%     91.778320   92.678590   91.740170   92.670960   95.974490   90.977230  \n",
       "50%     91.900390   92.777770   91.785950   94.761410   96.104190   91.541810  \n",
       "75%     92.251340   93.121090   92.197940   97.149410  104.038760   91.801210  \n",
       "max     92.335270   93.182130   92.243710   99.682370  104.755920   91.877500  "
      ]
     },
     "execution_count": 90,
     "metadata": {},
     "output_type": "execute_result"
    }
   ],
   "source": [
    "surf_wat.describe()"
   ]
  },
  {
   "attachments": {},
   "cell_type": "markdown",
   "metadata": {},
   "source": [
    "## Data analysis"
   ]
  },
  {
   "attachments": {},
   "cell_type": "markdown",
   "metadata": {},
   "source": [
    "### Convert to numpy array"
   ]
  },
  {
   "cell_type": "code",
   "execution_count": 380,
   "metadata": {},
   "outputs": [],
   "source": [
    "sub_irr_1_colnam = sub_irr_1.columns\n",
    "sub_irr_1_arr = sub_irr_1.to_numpy().T\n",
    "sub_irr_2_colnam = sub_irr_2.columns\n",
    "sub_irr_2_arr = sub_irr_2.to_numpy().T\n",
    "surf_wat_colnam = surf_wat.columns\n",
    "surf_wat_arr = surf_wat.to_numpy().T"
   ]
  },
  {
   "cell_type": "code",
   "execution_count": 369,
   "metadata": {},
   "outputs": [
    {
     "name": "stdout",
     "output_type": "stream",
     "text": [
      "(11, 780)\n",
      "(11, 214)\n",
      "(11, 181)\n"
     ]
    }
   ],
   "source": [
    "print(sub_irr_1_arr.shape)\n",
    "print(sub_irr_2_arr.shape)\n",
    "print(surf_wat_arr.shape)"
   ]
  },
  {
   "cell_type": "code",
   "execution_count": 93,
   "metadata": {},
   "outputs": [
    {
     "name": "stdout",
     "output_type": "stream",
     "text": [
      "diff_time      780\n",
      "water_level      0\n",
      "humd_1           8\n",
      "humd_2          75\n",
      "humd_3           0\n",
      "humd_4           0\n",
      "humd_5           0\n",
      "humd_6          82\n",
      "humd_7           0\n",
      "humd_8           0\n",
      "humd_9           8\n",
      "dtype: int64\n"
     ]
    }
   ],
   "source": [
    "print(sub_irr_1[sub_irr_1 > 103].count())"
   ]
  },
  {
   "cell_type": "code",
   "execution_count": 94,
   "metadata": {},
   "outputs": [
    {
     "name": "stdout",
     "output_type": "stream",
     "text": [
      "diff_time      214\n",
      "water_level      0\n",
      "humd_1           0\n",
      "humd_2          59\n",
      "humd_3           0\n",
      "humd_4           0\n",
      "humd_5           0\n",
      "humd_6           0\n",
      "humd_7           0\n",
      "humd_8           0\n",
      "humd_9           0\n",
      "dtype: int64\n"
     ]
    }
   ],
   "source": [
    "print(sub_irr_2[sub_irr_2 > 103].count())"
   ]
  },
  {
   "cell_type": "code",
   "execution_count": 95,
   "metadata": {},
   "outputs": [
    {
     "name": "stdout",
     "output_type": "stream",
     "text": [
      "diff_time      179\n",
      "water_level      0\n",
      "humd_1           0\n",
      "humd_2         174\n",
      "humd_3           0\n",
      "humd_4           0\n",
      "humd_5           0\n",
      "humd_6           0\n",
      "humd_7           0\n",
      "humd_8          68\n",
      "humd_9           0\n",
      "dtype: int64\n"
     ]
    }
   ],
   "source": [
    "print(surf_wat[surf_wat > 103].count())"
   ]
  },
  {
   "cell_type": "code",
   "execution_count": 219,
   "metadata": {},
   "outputs": [],
   "source": [
    "def humed_data_analysis(data):\n",
    "    \n",
    "    selected_data = data[0:2]\n",
    "\n",
    "    diff_selected_data = np.diff(selected_data[1]).tolist()\n",
    "    diff_selected_data.insert(0, 0)\n",
    "    diff_selected_data_arr = np.array(diff_selected_data)\n",
    "\n",
    "    selected_data_rate = diff_selected_data_arr/selected_data[0]\n",
    "\n",
    "    # pos_diff_selected_data = diff_selected_data_arr[diff_selected_data_arr > 0]\n",
    "    # neg_diff_selected_data = diff_selected_data_arr[diff_selected_data_arr < 0]\n",
    "\n",
    "    increasing_selected_data_rate = selected_data_rate[selected_data_rate > 0]\n",
    "    decreasing_selected_data_rate = selected_data_rate[selected_data_rate < 0]\n",
    "\n",
    "    return selected_data_rate, increasing_selected_data_rate, decreasing_selected_data_rate #, pos_diff_selected_data, neg_diff_selected_data"
   ]
  },
  {
   "cell_type": "code",
   "execution_count": 392,
   "metadata": {},
   "outputs": [],
   "source": [
    "def model_result_linepolar(data, label):\n",
    "    plot = pd.melt(data, id_vars=[label])\n",
    "    fig = px.line_polar(plot, r=\"value\", theta=\"variable\", color=label, line_close=True)\n",
    "    fig.show()"
   ]
  },
  {
   "attachments": {},
   "cell_type": "markdown",
   "metadata": {},
   "source": [
    "### Water Level"
   ]
  },
  {
   "attachments": {},
   "cell_type": "markdown",
   "metadata": {},
   "source": [
    "#### Sub Irrigation Phase 1"
   ]
  },
  {
   "cell_type": "code",
   "execution_count": 220,
   "metadata": {},
   "outputs": [],
   "source": [
    "water_level_rate_1, increasing_water_level_rate_1, decreasing_water_level_rate_1 = humed_data_analysis(sub_irr_1_arr[0:2]) # , inc_water_level_1, dec_water_level_1"
   ]
  },
  {
   "cell_type": "code",
   "execution_count": 434,
   "metadata": {},
   "outputs": [
    {
     "data": {
      "text/plain": [
       "(780,)"
      ]
     },
     "execution_count": 434,
     "metadata": {},
     "output_type": "execute_result"
    }
   ],
   "source": [
    "water_level_rate_1.shape"
   ]
  },
  {
   "cell_type": "code",
   "execution_count": 232,
   "metadata": {},
   "outputs": [],
   "source": [
    "mean_inc_water_rate_1 = np.mean(increasing_water_level_rate_1)\n",
    "mean_dec_water_rate_1 = np.mean(decreasing_water_level_rate_1)\n",
    "std_inc_water_rate_1 = np.std(increasing_water_level_rate_1)\n",
    "std_dec_water_rate_1 = np.std(decreasing_water_level_rate_1)"
   ]
  },
  {
   "attachments": {},
   "cell_type": "markdown",
   "metadata": {},
   "source": [
    "#### Sub Irrigation Phase 2"
   ]
  },
  {
   "cell_type": "code",
   "execution_count": 222,
   "metadata": {},
   "outputs": [],
   "source": [
    "water_level_rate_2, increasing_water_level_rate_2, decreasing_water_level_rate_2 = humed_data_analysis(sub_irr_2_arr[0:2]) # , inc_water_level_2, dec_water_level_2"
   ]
  },
  {
   "cell_type": "code",
   "execution_count": 223,
   "metadata": {},
   "outputs": [],
   "source": [
    "mean_inc_water_rate_2 = np.mean(increasing_water_level_rate_2)\n",
    "mean_dec_water_rate_2 = np.mean(decreasing_water_level_rate_2)\n",
    "std_inc_water_rate_2 = np.std(increasing_water_level_rate_2)\n",
    "std_dec_water_rate_2 = np.std(decreasing_water_level_rate_2)"
   ]
  },
  {
   "attachments": {},
   "cell_type": "markdown",
   "metadata": {},
   "source": [
    "#### Soil serface watering"
   ]
  },
  {
   "cell_type": "code",
   "execution_count": 224,
   "metadata": {},
   "outputs": [],
   "source": [
    "surf_water_level_rate, surf_increasing_water_level_rate, surf_decreasing_water_level_rate = humed_data_analysis(surf_wat_arr[0:2]) # , surf_inc_water_level, surf_dec_water_level"
   ]
  },
  {
   "cell_type": "code",
   "execution_count": 225,
   "metadata": {},
   "outputs": [],
   "source": [
    "mean_inc_surf_water_rate = np.mean(surf_increasing_water_level_rate)\n",
    "mean_dec_surf_water_rate = np.mean(surf_decreasing_water_level_rate)\n",
    "std_inc_surf_water_rate = np.std(surf_increasing_water_level_rate)\n",
    "std_dec_surf_water_rate = np.std(surf_decreasing_water_level_rate)"
   ]
  },
  {
   "attachments": {},
   "cell_type": "markdown",
   "metadata": {},
   "source": [
    "#### Mean of rate of water level"
   ]
  },
  {
   "cell_type": "code",
   "execution_count": 243,
   "metadata": {},
   "outputs": [
    {
     "name": "stdout",
     "output_type": "stream",
     "text": [
      "Mean of increasing rate of water level :  0.00022771960790676318 [unit/sec]\n",
      "Mean of decreasing rate of water level :  -0.00022284954690962044 [unit/sec]\n"
     ]
    }
   ],
   "source": [
    "print(\"Mean of increasing rate of water level : \", str(mean_inc_water_rate_1) + \" [unit/sec]\")\n",
    "print(\"Mean of decreasing rate of water level : \", str(mean_dec_water_rate_1) + \" [unit/sec]\")"
   ]
  },
  {
   "cell_type": "code",
   "execution_count": 244,
   "metadata": {},
   "outputs": [
    {
     "name": "stdout",
     "output_type": "stream",
     "text": [
      "Mean of increasing rate of water level :  0.000368262504517001 [unit/sec]\n",
      "Mean of decreasing rate of water level :  -0.00032111238073807824 [unit/sec]\n"
     ]
    }
   ],
   "source": [
    "print(\"Mean of increasing rate of water level : \", str(mean_inc_water_rate_2) + \" [unit/sec]\")\n",
    "print(\"Mean of decreasing rate of water level : \", str(mean_dec_water_rate_2) + \" [unit/sec]\")"
   ]
  },
  {
   "cell_type": "code",
   "execution_count": 245,
   "metadata": {},
   "outputs": [
    {
     "name": "stdout",
     "output_type": "stream",
     "text": [
      "Mean of increasing rate of water level :  0.0002593862144711986 [unit/sec]\n",
      "Mean of decreasing rate of water level :  -0.00019646664410159632 [unit/sec]\n"
     ]
    }
   ],
   "source": [
    "print(\"Mean of increasing rate of water level : \", str(mean_inc_surf_water_rate) + \" [unit/sec]\")\n",
    "print(\"Mean of decreasing rate of water level : \", str(mean_dec_surf_water_rate) + \" [unit/sec]\")"
   ]
  },
  {
   "attachments": {},
   "cell_type": "markdown",
   "metadata": {},
   "source": [
    "#### Std of rate of water level"
   ]
  },
  {
   "cell_type": "code",
   "execution_count": 233,
   "metadata": {},
   "outputs": [
    {
     "name": "stdout",
     "output_type": "stream",
     "text": [
      "Std of increasing of water level :  0.0001785866069412578\n",
      "Std of decreasing of water level :  0.00015301671506877726\n"
     ]
    }
   ],
   "source": [
    "print(\"Std of increasing of water level : \", str(std_inc_water_rate_1))\n",
    "print(\"Std of decreasing of water level : \", str(std_dec_water_rate_1))"
   ]
  },
  {
   "cell_type": "code",
   "execution_count": 234,
   "metadata": {},
   "outputs": [
    {
     "name": "stdout",
     "output_type": "stream",
     "text": [
      "Std of increasing rate of water level :  0.0003703588840428496\n",
      "Std of decreasing rate of water level :  0.0002187054751261251\n"
     ]
    }
   ],
   "source": [
    "print(\"Std of increasing rate of water level : \", str(std_inc_water_rate_2))\n",
    "print(\"Std of decreasing rate of water level : \", str(std_dec_water_rate_2))"
   ]
  },
  {
   "cell_type": "code",
   "execution_count": 235,
   "metadata": {},
   "outputs": [
    {
     "name": "stdout",
     "output_type": "stream",
     "text": [
      "Std of increasing rate of water level :  0.0005037534053752239\n",
      "Std of decreasing rate of water level :  0.00014303427240807418\n"
     ]
    }
   ],
   "source": [
    "print(\"Std of increasing rate of water level : \", str(std_inc_surf_water_rate))\n",
    "print(\"Std of decreasing rate of water level : \", str(std_dec_surf_water_rate))"
   ]
  },
  {
   "attachments": {},
   "cell_type": "markdown",
   "metadata": {},
   "source": [
    "### Humedity 1"
   ]
  },
  {
   "attachments": {},
   "cell_type": "markdown",
   "metadata": {},
   "source": [
    "#### Sub Irrigation Phase 1"
   ]
  },
  {
   "cell_type": "code",
   "execution_count": 236,
   "metadata": {},
   "outputs": [],
   "source": [
    "humed_1_rate_1, increasing_humed_1_rate_1, decreasing_humed_1_rate_1 = humed_data_analysis([sub_irr_1_arr[0], sub_irr_1_arr[2]])"
   ]
  },
  {
   "cell_type": "code",
   "execution_count": 237,
   "metadata": {},
   "outputs": [],
   "source": [
    "mean_inc_humed_1_rate_1 = np.mean(increasing_humed_1_rate_1)\n",
    "mean_dec_humed_1_rate_1 = np.mean(decreasing_humed_1_rate_1)\n",
    "std_inc_humed_1_rate_1 = np.std(increasing_humed_1_rate_1)\n",
    "std_dec_humed_1_rate_1 = np.std(decreasing_humed_1_rate_1)"
   ]
  },
  {
   "attachments": {},
   "cell_type": "markdown",
   "metadata": {},
   "source": [
    "#### Sub Irrigation Phase 2"
   ]
  },
  {
   "cell_type": "code",
   "execution_count": 238,
   "metadata": {},
   "outputs": [],
   "source": [
    "humed_1_rate_2, increasing_humed_1_rate_2, decreasing_humed_1_rate_2 = humed_data_analysis([sub_irr_2_arr[0], sub_irr_2_arr[2]])"
   ]
  },
  {
   "cell_type": "code",
   "execution_count": 239,
   "metadata": {},
   "outputs": [],
   "source": [
    "mean_inc_humed_1_rate_2 = np.mean(increasing_humed_1_rate_2)\n",
    "mean_dec_humed_1_rate_2 = np.mean(decreasing_humed_1_rate_2)\n",
    "std_inc_humed_1_rate_2 = np.std(increasing_humed_1_rate_2)\n",
    "std_dec_humed_1_rate_2 = np.std(decreasing_humed_1_rate_2)"
   ]
  },
  {
   "attachments": {},
   "cell_type": "markdown",
   "metadata": {},
   "source": [
    "#### Soil serface watering"
   ]
  },
  {
   "cell_type": "code",
   "execution_count": 241,
   "metadata": {},
   "outputs": [],
   "source": [
    "surf_humed_1_rate, increasing_surf_humed_1_rate, decreasing_surf_humed_1_rate = humed_data_analysis([surf_wat_arr[0], surf_wat_arr[2]])"
   ]
  },
  {
   "cell_type": "code",
   "execution_count": 246,
   "metadata": {},
   "outputs": [],
   "source": [
    "mean_inc_surf_humed_1_rate = np.mean(increasing_surf_humed_1_rate)\n",
    "mean_dec_surf_humed_1_rate = np.mean(decreasing_surf_humed_1_rate)\n",
    "std_inc_surf_humed_1_rate = np.std(increasing_surf_humed_1_rate)\n",
    "std_dec_surf_humed_1_rate = np.std(decreasing_surf_humed_1_rate)"
   ]
  },
  {
   "attachments": {},
   "cell_type": "markdown",
   "metadata": {},
   "source": [
    "#### Mean of rate of humedity 1"
   ]
  },
  {
   "cell_type": "code",
   "execution_count": 247,
   "metadata": {},
   "outputs": [
    {
     "name": "stdout",
     "output_type": "stream",
     "text": [
      "Mean of increasing rate of humedity 1 :  0.00011951237395847634 [percent/sec]\n",
      "Mean of decreasing rate of humedity 1 :  -0.0001480593976948582 [percent/sec]\n"
     ]
    }
   ],
   "source": [
    "print(\"Mean of increasing rate of humedity 1 : \", str(mean_inc_humed_1_rate_1) + \" [percent/sec]\")\n",
    "print(\"Mean of decreasing rate of humedity 1 : \", str(mean_dec_humed_1_rate_1) + \" [percent/sec]\")"
   ]
  },
  {
   "cell_type": "code",
   "execution_count": 248,
   "metadata": {},
   "outputs": [
    {
     "name": "stdout",
     "output_type": "stream",
     "text": [
      "Mean of increasing rate of humedity 1 :  0.008475333478099041 [percent/sec]\n",
      "Mean of decreasing rate of humedity 1 :  -0.0011028380908431558 [percent/sec]\n"
     ]
    }
   ],
   "source": [
    "print(\"Mean of increasing rate of humedity 1 : \", str(mean_inc_humed_1_rate_2) + \" [percent/sec]\")\n",
    "print(\"Mean of decreasing rate of humedity 1 : \", str(mean_dec_humed_1_rate_2) + \" [percent/sec]\")"
   ]
  },
  {
   "cell_type": "code",
   "execution_count": 249,
   "metadata": {},
   "outputs": [
    {
     "name": "stdout",
     "output_type": "stream",
     "text": [
      "Mean of increasing rate of humedity 1 :  0.008475333478099041 [percent/sec]\n",
      "Mean of decreasing rate of humedity 1 :  -0.0011028380908431558 [percent/sec]\n"
     ]
    }
   ],
   "source": [
    "print(\"Mean of increasing rate of humedity 1 : \", str(mean_inc_surf_humed_1_rate) + \" [percent/sec]\")\n",
    "print(\"Mean of decreasing rate of humedity 1 : \", str(mean_dec_surf_humed_1_rate) + \" [percent/sec]\")"
   ]
  },
  {
   "attachments": {},
   "cell_type": "markdown",
   "metadata": {},
   "source": [
    "#### Std of rate of humedity 1"
   ]
  },
  {
   "cell_type": "code",
   "execution_count": 250,
   "metadata": {},
   "outputs": [
    {
     "name": "stdout",
     "output_type": "stream",
     "text": [
      "Std of increasing of humedity 1 :  4.5741559256726e-05\n",
      "Std of decreasing of humedity 1 :  0.00011433382307352685\n"
     ]
    }
   ],
   "source": [
    "print(\"Std of increasing of humedity 1 : \", str(std_inc_humed_1_rate_1))\n",
    "print(\"Std of decreasing of humedity 1 : \", str(std_dec_humed_1_rate_1))"
   ]
  },
  {
   "cell_type": "code",
   "execution_count": 251,
   "metadata": {},
   "outputs": [
    {
     "name": "stdout",
     "output_type": "stream",
     "text": [
      "Std of increasing rate of humedity 1 :  0.02213629067215757\n",
      "Std of decreasing rate of humedity 1 :  0.007527703449643169\n"
     ]
    }
   ],
   "source": [
    "print(\"Std of increasing rate of humedity 1 : \", str(std_inc_humed_1_rate_2))\n",
    "print(\"Std of decreasing rate of humedity 1 : \", str(std_dec_humed_1_rate_2))"
   ]
  },
  {
   "cell_type": "code",
   "execution_count": 252,
   "metadata": {},
   "outputs": [
    {
     "name": "stdout",
     "output_type": "stream",
     "text": [
      "Std of increasing rate of humedity 1 :  0.02213629067215757\n",
      "Std of decreasing rate of humedity 1 :  0.007527703449643169\n"
     ]
    }
   ],
   "source": [
    "print(\"Std of increasing rate of humedity 1 : \", str(std_inc_surf_humed_1_rate))\n",
    "print(\"Std of decreasing rate of humedity 1 : \", str(std_dec_surf_humed_1_rate))"
   ]
  },
  {
   "attachments": {},
   "cell_type": "markdown",
   "metadata": {},
   "source": [
    "### Humedity 2"
   ]
  },
  {
   "attachments": {},
   "cell_type": "markdown",
   "metadata": {},
   "source": [
    "#### Sub Irrigation Phase 1"
   ]
  },
  {
   "cell_type": "code",
   "execution_count": 259,
   "metadata": {},
   "outputs": [],
   "source": [
    "humed_2_rate_1, increasing_humed_2_rate_1, decreasing_humed_2_rate_1 = humed_data_analysis([sub_irr_1_arr[0], sub_irr_1_arr[3]])"
   ]
  },
  {
   "cell_type": "code",
   "execution_count": 260,
   "metadata": {},
   "outputs": [],
   "source": [
    "mean_inc_humed_2_rate_1 = np.mean(increasing_humed_2_rate_1)\n",
    "mean_dec_humed_2_rate_1 = np.mean(decreasing_humed_2_rate_1)\n",
    "std_inc_humed_2_rate_1 = np.std(increasing_humed_2_rate_1)\n",
    "std_dec_humed_2_rate_1 = np.std(decreasing_humed_2_rate_1)"
   ]
  },
  {
   "attachments": {},
   "cell_type": "markdown",
   "metadata": {},
   "source": [
    "#### Sub Irrigation Phase 2"
   ]
  },
  {
   "cell_type": "code",
   "execution_count": 261,
   "metadata": {},
   "outputs": [],
   "source": [
    "humed_2_rate_2, increasing_humed_2_rate_2, decreasing_humed_2_rate_2 = humed_data_analysis([sub_irr_2_arr[0], sub_irr_2_arr[3]])"
   ]
  },
  {
   "cell_type": "code",
   "execution_count": 262,
   "metadata": {},
   "outputs": [],
   "source": [
    "mean_inc_humed_2_rate_2 = np.mean(increasing_humed_2_rate_2)\n",
    "mean_dec_humed_2_rate_2 = np.mean(decreasing_humed_2_rate_2)\n",
    "std_inc_humed_2_rate_2 = np.std(increasing_humed_2_rate_2)\n",
    "std_dec_humed_2_rate_2 = np.std(decreasing_humed_2_rate_2)"
   ]
  },
  {
   "attachments": {},
   "cell_type": "markdown",
   "metadata": {},
   "source": [
    "#### Soil serface watering"
   ]
  },
  {
   "cell_type": "code",
   "execution_count": 263,
   "metadata": {},
   "outputs": [],
   "source": [
    "surf_humed_2_rate, increasing_surf_humed_2_rate, decreasing_surf_humed_2_rate = humed_data_analysis([surf_wat_arr[0], surf_wat_arr[3]])"
   ]
  },
  {
   "cell_type": "code",
   "execution_count": 264,
   "metadata": {},
   "outputs": [],
   "source": [
    "mean_inc_surf_humed_2_rate = np.mean(increasing_surf_humed_2_rate)\n",
    "mean_dec_surf_humed_2_rate = np.mean(decreasing_surf_humed_2_rate)\n",
    "std_inc_surf_humed_2_rate = np.std(increasing_surf_humed_2_rate)\n",
    "std_dec_surf_humed_2_rate = np.std(decreasing_surf_humed_2_rate)"
   ]
  },
  {
   "attachments": {},
   "cell_type": "markdown",
   "metadata": {},
   "source": [
    "#### Mean of rate of humedity 2"
   ]
  },
  {
   "cell_type": "code",
   "execution_count": 265,
   "metadata": {},
   "outputs": [
    {
     "name": "stdout",
     "output_type": "stream",
     "text": [
      "Mean of increasing rate of humedity 2 :  0.00014280203521867596 [percent/sec]\n",
      "Mean of decreasing rate of humedity 2 :  -0.0007412267746686538 [percent/sec]\n"
     ]
    }
   ],
   "source": [
    "print(\"Mean of increasing rate of humedity 2 : \", str(mean_inc_humed_2_rate_1) + \" [percent/sec]\")\n",
    "print(\"Mean of decreasing rate of humedity 2 : \", str(mean_dec_humed_2_rate_1) + \" [percent/sec]\")"
   ]
  },
  {
   "cell_type": "code",
   "execution_count": 266,
   "metadata": {},
   "outputs": [
    {
     "name": "stdout",
     "output_type": "stream",
     "text": [
      "Mean of increasing rate of humedity 2 :  0.0025612804078563927 [percent/sec]\n",
      "Mean of decreasing rate of humedity 2 :  -0.0006935280963319632 [percent/sec]\n"
     ]
    }
   ],
   "source": [
    "print(\"Mean of increasing rate of humedity 2 : \", str(mean_inc_humed_2_rate_2) + \" [percent/sec]\")\n",
    "print(\"Mean of decreasing rate of humedity 2 : \", str(mean_dec_humed_2_rate_2) + \" [percent/sec]\")"
   ]
  },
  {
   "cell_type": "code",
   "execution_count": 267,
   "metadata": {},
   "outputs": [
    {
     "name": "stdout",
     "output_type": "stream",
     "text": [
      "Mean of increasing rate of humedity 2 :  0.007646257062185017 [percent/sec]\n",
      "Mean of decreasing rate of humedity 2 :  -0.001561528318424355 [percent/sec]\n"
     ]
    }
   ],
   "source": [
    "print(\"Mean of increasing rate of humedity 2 : \", str(mean_inc_surf_humed_2_rate) + \" [percent/sec]\")\n",
    "print(\"Mean of decreasing rate of humedity 2 : \", str(mean_dec_surf_humed_2_rate) + \" [percent/sec]\")"
   ]
  },
  {
   "attachments": {},
   "cell_type": "markdown",
   "metadata": {},
   "source": [
    "#### Std of rate of humedity 2"
   ]
  },
  {
   "cell_type": "code",
   "execution_count": 268,
   "metadata": {},
   "outputs": [
    {
     "name": "stdout",
     "output_type": "stream",
     "text": [
      "Std of increasing of humedity 2 :  0.0001400112295111193\n",
      "Std of decreasing of humedity 2 :  0.005720524877125952\n"
     ]
    }
   ],
   "source": [
    "print(\"Std of increasing of humedity 2 : \", str(std_inc_humed_2_rate_1))\n",
    "print(\"Std of decreasing of humedity 2 : \", str(std_dec_humed_2_rate_1))"
   ]
  },
  {
   "cell_type": "code",
   "execution_count": 269,
   "metadata": {},
   "outputs": [
    {
     "name": "stdout",
     "output_type": "stream",
     "text": [
      "Std of increasing rate of humedity 2 :  0.008999847361388938\n",
      "Std of decreasing rate of humedity 2 :  0.003924231070976467\n"
     ]
    }
   ],
   "source": [
    "print(\"Std of increasing rate of humedity 2 : \", str(std_inc_humed_2_rate_2))\n",
    "print(\"Std of decreasing rate of humedity 2 : \", str(std_dec_humed_2_rate_2))"
   ]
  },
  {
   "cell_type": "code",
   "execution_count": 270,
   "metadata": {},
   "outputs": [
    {
     "name": "stdout",
     "output_type": "stream",
     "text": [
      "Std of increasing rate of humedity 2 :  0.023175773412222943\n",
      "Std of decreasing rate of humedity 2 :  0.010639178979974004\n"
     ]
    }
   ],
   "source": [
    "print(\"Std of increasing rate of humedity 2 : \", str(std_inc_surf_humed_2_rate))\n",
    "print(\"Std of decreasing rate of humedity 2 : \", str(std_dec_surf_humed_2_rate))"
   ]
  },
  {
   "attachments": {},
   "cell_type": "markdown",
   "metadata": {},
   "source": [
    "### Humedity 3"
   ]
  },
  {
   "attachments": {},
   "cell_type": "markdown",
   "metadata": {},
   "source": [
    "#### Sub Irrigation Phase 1"
   ]
  },
  {
   "cell_type": "code",
   "execution_count": 271,
   "metadata": {},
   "outputs": [],
   "source": [
    "humed_3_rate_1, increasing_humed_3_rate_1, decreasing_humed_3_rate_1 = humed_data_analysis([sub_irr_1_arr[0], sub_irr_1_arr[4]])"
   ]
  },
  {
   "cell_type": "code",
   "execution_count": 272,
   "metadata": {},
   "outputs": [],
   "source": [
    "mean_inc_humed_3_rate_1 = np.mean(increasing_humed_3_rate_1)\n",
    "mean_dec_humed_3_rate_1 = np.mean(decreasing_humed_3_rate_1)\n",
    "std_inc_humed_3_rate_1 = np.std(increasing_humed_3_rate_1)\n",
    "std_dec_humed_3_rate_1 = np.std(decreasing_humed_3_rate_1)"
   ]
  },
  {
   "attachments": {},
   "cell_type": "markdown",
   "metadata": {},
   "source": [
    "#### Sub Irrigation Phase 2"
   ]
  },
  {
   "cell_type": "code",
   "execution_count": 273,
   "metadata": {},
   "outputs": [],
   "source": [
    "humed_3_rate_2, increasing_humed_3_rate_2, decreasing_humed_3_rate_2 = humed_data_analysis([sub_irr_2_arr[0], sub_irr_2_arr[4]])"
   ]
  },
  {
   "cell_type": "code",
   "execution_count": 274,
   "metadata": {},
   "outputs": [],
   "source": [
    "mean_inc_humed_3_rate_2 = np.mean(increasing_humed_3_rate_2)\n",
    "mean_dec_humed_3_rate_2 = np.mean(decreasing_humed_3_rate_2)\n",
    "std_inc_humed_3_rate_2 = np.std(increasing_humed_3_rate_2)\n",
    "std_dec_humed_3_rate_2 = np.std(decreasing_humed_3_rate_2)"
   ]
  },
  {
   "attachments": {},
   "cell_type": "markdown",
   "metadata": {},
   "source": [
    "#### Soil serface watering"
   ]
  },
  {
   "cell_type": "code",
   "execution_count": 275,
   "metadata": {},
   "outputs": [],
   "source": [
    "surf_humed_3_rate, increasing_surf_humed_3_rate, decreasing_surf_humed_3_rate = humed_data_analysis([surf_wat_arr[0], surf_wat_arr[4]])"
   ]
  },
  {
   "cell_type": "code",
   "execution_count": 276,
   "metadata": {},
   "outputs": [],
   "source": [
    "mean_inc_surf_humed_3_rate = np.mean(increasing_surf_humed_3_rate)\n",
    "mean_dec_surf_humed_3_rate = np.mean(decreasing_surf_humed_3_rate)\n",
    "std_inc_surf_humed_3_rate = np.std(increasing_surf_humed_3_rate)\n",
    "std_dec_surf_humed_3_rate = np.std(decreasing_surf_humed_3_rate)"
   ]
  },
  {
   "attachments": {},
   "cell_type": "markdown",
   "metadata": {},
   "source": [
    "#### Mean of rate of humedity 3"
   ]
  },
  {
   "cell_type": "code",
   "execution_count": 277,
   "metadata": {},
   "outputs": [
    {
     "name": "stdout",
     "output_type": "stream",
     "text": [
      "Mean of increasing rate of humedity 3 :  0.00013184593623378414 [percent/sec]\n",
      "Mean of decreasing rate of humedity 3 :  -0.0001453644428474423 [percent/sec]\n"
     ]
    }
   ],
   "source": [
    "print(\"Mean of increasing rate of humedity 3 : \", str(mean_inc_humed_3_rate_1) + \" [percent/sec]\")\n",
    "print(\"Mean of decreasing rate of humedity 3 : \", str(mean_dec_humed_3_rate_1) + \" [percent/sec]\")"
   ]
  },
  {
   "cell_type": "code",
   "execution_count": 278,
   "metadata": {},
   "outputs": [
    {
     "name": "stdout",
     "output_type": "stream",
     "text": [
      "Mean of increasing rate of humedity 3 :  0.00018872283661589798 [percent/sec]\n",
      "Mean of decreasing rate of humedity 3 :  -0.00011367585349741569 [percent/sec]\n"
     ]
    }
   ],
   "source": [
    "print(\"Mean of increasing rate of humedity 3 : \", str(mean_inc_humed_3_rate_2) + \" [percent/sec]\")\n",
    "print(\"Mean of decreasing rate of humedity 3 : \", str(mean_dec_humed_3_rate_2) + \" [percent/sec]\")"
   ]
  },
  {
   "cell_type": "code",
   "execution_count": 279,
   "metadata": {},
   "outputs": [
    {
     "name": "stdout",
     "output_type": "stream",
     "text": [
      "Mean of increasing rate of humedity 3 :  0.00013123442931299952 [percent/sec]\n",
      "Mean of decreasing rate of humedity 3 :  -0.0004216978220631421 [percent/sec]\n"
     ]
    }
   ],
   "source": [
    "print(\"Mean of increasing rate of humedity 3 : \", str(mean_inc_surf_humed_3_rate) + \" [percent/sec]\")\n",
    "print(\"Mean of decreasing rate of humedity 3 : \", str(mean_dec_surf_humed_3_rate) + \" [percent/sec]\")"
   ]
  },
  {
   "attachments": {},
   "cell_type": "markdown",
   "metadata": {},
   "source": [
    "#### Std of rate of humedity 2"
   ]
  },
  {
   "cell_type": "code",
   "execution_count": 280,
   "metadata": {},
   "outputs": [
    {
     "name": "stdout",
     "output_type": "stream",
     "text": [
      "Std of increasing of humedity 3 :  5.37666797402421e-05\n",
      "Std of decreasing of humedity 3 :  0.00010899384930175266\n"
     ]
    }
   ],
   "source": [
    "print(\"Std of increasing of humedity 3 : \", str(std_inc_humed_3_rate_1))\n",
    "print(\"Std of decreasing of humedity 3 : \", str(std_dec_humed_3_rate_1))"
   ]
  },
  {
   "cell_type": "code",
   "execution_count": 281,
   "metadata": {},
   "outputs": [
    {
     "name": "stdout",
     "output_type": "stream",
     "text": [
      "Std of increasing rate of humedity 3 :  0.00015780799694274222\n",
      "Std of decreasing rate of humedity 3 :  4.0238665223291663e-05\n"
     ]
    }
   ],
   "source": [
    "print(\"Std of increasing rate of humedity 3 : \", str(std_inc_humed_3_rate_2))\n",
    "print(\"Std of decreasing rate of humedity 3 : \", str(std_dec_humed_3_rate_2))"
   ]
  },
  {
   "cell_type": "code",
   "execution_count": 282,
   "metadata": {},
   "outputs": [
    {
     "name": "stdout",
     "output_type": "stream",
     "text": [
      "Std of increasing rate of humedity 3 :  7.649538530854481e-05\n",
      "Std of decreasing rate of humedity 3 :  0.001060461153843924\n"
     ]
    }
   ],
   "source": [
    "print(\"Std of increasing rate of humedity 3 : \", str(std_inc_surf_humed_3_rate))\n",
    "print(\"Std of decreasing rate of humedity 3 : \", str(std_dec_surf_humed_3_rate))"
   ]
  },
  {
   "attachments": {},
   "cell_type": "markdown",
   "metadata": {},
   "source": [
    "### Humedity 4"
   ]
  },
  {
   "attachments": {},
   "cell_type": "markdown",
   "metadata": {},
   "source": [
    "#### Sub Irrigation Phase 1"
   ]
  },
  {
   "cell_type": "code",
   "execution_count": 283,
   "metadata": {},
   "outputs": [],
   "source": [
    "humed_4_rate_1, increasing_humed_4_rate_1, decreasing_humed_4_rate_1 = humed_data_analysis([sub_irr_1_arr[0], sub_irr_1_arr[5]])"
   ]
  },
  {
   "cell_type": "code",
   "execution_count": 284,
   "metadata": {},
   "outputs": [],
   "source": [
    "mean_inc_humed_4_rate_1 = np.mean(increasing_humed_4_rate_1)\n",
    "mean_dec_humed_4_rate_1 = np.mean(decreasing_humed_4_rate_1)\n",
    "std_inc_humed_4_rate_1 = np.std(increasing_humed_4_rate_1)\n",
    "std_dec_humed_4_rate_1 = np.std(decreasing_humed_4_rate_1)"
   ]
  },
  {
   "attachments": {},
   "cell_type": "markdown",
   "metadata": {},
   "source": [
    "#### Sub Irrigation Phase 2"
   ]
  },
  {
   "cell_type": "code",
   "execution_count": 285,
   "metadata": {},
   "outputs": [],
   "source": [
    "humed_4_rate_2, increasing_humed_4_rate_2, decreasing_humed_4_rate_2 = humed_data_analysis([sub_irr_2_arr[0], sub_irr_2_arr[5]])"
   ]
  },
  {
   "cell_type": "code",
   "execution_count": 286,
   "metadata": {},
   "outputs": [],
   "source": [
    "mean_inc_humed_4_rate_2 = np.mean(increasing_humed_4_rate_2)\n",
    "mean_dec_humed_4_rate_2 = np.mean(decreasing_humed_4_rate_2)\n",
    "std_inc_humed_4_rate_2 = np.std(increasing_humed_4_rate_2)\n",
    "std_dec_humed_4_rate_2 = np.std(decreasing_humed_4_rate_2)"
   ]
  },
  {
   "attachments": {},
   "cell_type": "markdown",
   "metadata": {},
   "source": [
    "#### Soil serface watering"
   ]
  },
  {
   "cell_type": "code",
   "execution_count": 287,
   "metadata": {},
   "outputs": [],
   "source": [
    "surf_humed_4_rate, increasing_surf_humed_4_rate, decreasing_surf_humed_4_rate = humed_data_analysis([surf_wat_arr[0], surf_wat_arr[5]])"
   ]
  },
  {
   "cell_type": "code",
   "execution_count": 288,
   "metadata": {},
   "outputs": [],
   "source": [
    "mean_inc_surf_humed_4_rate = np.mean(increasing_surf_humed_4_rate)\n",
    "mean_dec_surf_humed_4_rate = np.mean(decreasing_surf_humed_4_rate)\n",
    "std_inc_surf_humed_4_rate = np.std(increasing_surf_humed_4_rate)\n",
    "std_dec_surf_humed_4_rate = np.std(decreasing_surf_humed_4_rate)"
   ]
  },
  {
   "attachments": {},
   "cell_type": "markdown",
   "metadata": {},
   "source": [
    "#### Mean of rate of humedity 4"
   ]
  },
  {
   "cell_type": "code",
   "execution_count": 289,
   "metadata": {},
   "outputs": [
    {
     "name": "stdout",
     "output_type": "stream",
     "text": [
      "Mean of increasing rate of humedity 4 :  0.00013695554499303553 [percent/sec]\n",
      "Mean of decreasing rate of humedity 4 :  -0.0003511588202065976 [percent/sec]\n"
     ]
    }
   ],
   "source": [
    "print(\"Mean of increasing rate of humedity 4 : \", str(mean_inc_humed_4_rate_1) + \" [percent/sec]\")\n",
    "print(\"Mean of decreasing rate of humedity 4 : \", str(mean_dec_humed_4_rate_1) + \" [percent/sec]\")"
   ]
  },
  {
   "cell_type": "code",
   "execution_count": 290,
   "metadata": {},
   "outputs": [
    {
     "name": "stdout",
     "output_type": "stream",
     "text": [
      "Mean of increasing rate of humedity 4 :  0.00011895998393018216 [percent/sec]\n",
      "Mean of decreasing rate of humedity 4 :  -9.475702135154292e-05 [percent/sec]\n"
     ]
    }
   ],
   "source": [
    "print(\"Mean of increasing rate of humedity 4 : \", str(mean_inc_humed_4_rate_2) + \" [percent/sec]\")\n",
    "print(\"Mean of decreasing rate of humedity 4 : \", str(mean_dec_humed_4_rate_2) + \" [percent/sec]\")"
   ]
  },
  {
   "cell_type": "code",
   "execution_count": 291,
   "metadata": {},
   "outputs": [
    {
     "name": "stdout",
     "output_type": "stream",
     "text": [
      "Mean of increasing rate of humedity 4 :  0.00014848784232399795 [percent/sec]\n",
      "Mean of decreasing rate of humedity 4 :  -0.00011789889668583649 [percent/sec]\n"
     ]
    }
   ],
   "source": [
    "print(\"Mean of increasing rate of humedity 4 : \", str(mean_inc_surf_humed_4_rate) + \" [percent/sec]\")\n",
    "print(\"Mean of decreasing rate of humedity 4 : \", str(mean_dec_surf_humed_4_rate) + \" [percent/sec]\")"
   ]
  },
  {
   "attachments": {},
   "cell_type": "markdown",
   "metadata": {},
   "source": [
    "#### Std of rate of humedity 4"
   ]
  },
  {
   "cell_type": "code",
   "execution_count": 292,
   "metadata": {},
   "outputs": [
    {
     "name": "stdout",
     "output_type": "stream",
     "text": [
      "Std of increasing of humedity 4 :  6.2535557339235e-05\n",
      "Std of decreasing of humedity 4 :  0.0007774331612036699\n"
     ]
    }
   ],
   "source": [
    "print(\"Std of increasing of humedity 4 : \", str(std_inc_humed_4_rate_1))\n",
    "print(\"Std of decreasing of humedity 4 : \", str(std_dec_humed_4_rate_1))"
   ]
  },
  {
   "cell_type": "code",
   "execution_count": 293,
   "metadata": {},
   "outputs": [
    {
     "name": "stdout",
     "output_type": "stream",
     "text": [
      "Std of increasing rate of humedity 4 :  9.901181058500242e-05\n",
      "Std of decreasing rate of humedity 4 :  3.839541134092787e-05\n"
     ]
    }
   ],
   "source": [
    "print(\"Std of increasing rate of humedity 4 : \", str(std_inc_humed_4_rate_2))\n",
    "print(\"Std of decreasing rate of humedity 4 : \", str(std_dec_humed_4_rate_2))"
   ]
  },
  {
   "cell_type": "code",
   "execution_count": 294,
   "metadata": {},
   "outputs": [
    {
     "name": "stdout",
     "output_type": "stream",
     "text": [
      "Std of increasing rate of humedity 4 :  0.00021614909943804735\n",
      "Std of decreasing rate of humedity 4 :  5.6670417363225846e-05\n"
     ]
    }
   ],
   "source": [
    "print(\"Std of increasing rate of humedity 4 : \", str(std_inc_surf_humed_4_rate))\n",
    "print(\"Std of decreasing rate of humedity 4 : \", str(std_dec_surf_humed_4_rate))"
   ]
  },
  {
   "attachments": {},
   "cell_type": "markdown",
   "metadata": {},
   "source": [
    "### Humedity 5"
   ]
  },
  {
   "attachments": {},
   "cell_type": "markdown",
   "metadata": {},
   "source": [
    "#### Sub Irrigation Phase 1"
   ]
  },
  {
   "cell_type": "code",
   "execution_count": 295,
   "metadata": {},
   "outputs": [],
   "source": [
    "humed_5_rate_1, increasing_humed_5_rate_1, decreasing_humed_5_rate_1 = humed_data_analysis([sub_irr_1_arr[0], sub_irr_1_arr[6]])"
   ]
  },
  {
   "cell_type": "code",
   "execution_count": 296,
   "metadata": {},
   "outputs": [],
   "source": [
    "mean_inc_humed_5_rate_1 = np.mean(increasing_humed_5_rate_1)\n",
    "mean_dec_humed_5_rate_1 = np.mean(decreasing_humed_5_rate_1)\n",
    "std_inc_humed_5_rate_1 = np.std(increasing_humed_5_rate_1)\n",
    "std_dec_humed_5_rate_1 = np.std(decreasing_humed_5_rate_1)"
   ]
  },
  {
   "attachments": {},
   "cell_type": "markdown",
   "metadata": {},
   "source": [
    "#### Sub Irrigation Phase 2"
   ]
  },
  {
   "cell_type": "code",
   "execution_count": 297,
   "metadata": {},
   "outputs": [],
   "source": [
    "humed_5_rate_2, increasing_humed_5_rate_2, decreasing_humed_5_rate_2 = humed_data_analysis([sub_irr_2_arr[0], sub_irr_2_arr[6]])"
   ]
  },
  {
   "cell_type": "code",
   "execution_count": 298,
   "metadata": {},
   "outputs": [],
   "source": [
    "mean_inc_humed_5_rate_2 = np.mean(increasing_humed_5_rate_2)\n",
    "mean_dec_humed_5_rate_2 = np.mean(decreasing_humed_5_rate_2)\n",
    "std_inc_humed_5_rate_2 = np.std(increasing_humed_5_rate_2)\n",
    "std_dec_humed_5_rate_2 = np.std(decreasing_humed_5_rate_2)"
   ]
  },
  {
   "attachments": {},
   "cell_type": "markdown",
   "metadata": {},
   "source": [
    "#### Soil serface watering"
   ]
  },
  {
   "cell_type": "code",
   "execution_count": 299,
   "metadata": {},
   "outputs": [],
   "source": [
    "surf_humed_5_rate, increasing_surf_humed_5_rate, decreasing_surf_humed_5_rate = humed_data_analysis([surf_wat_arr[0], surf_wat_arr[6]])"
   ]
  },
  {
   "cell_type": "code",
   "execution_count": 300,
   "metadata": {},
   "outputs": [],
   "source": [
    "mean_inc_surf_humed_5_rate = np.mean(increasing_surf_humed_5_rate)\n",
    "mean_dec_surf_humed_5_rate = np.mean(decreasing_surf_humed_5_rate)\n",
    "std_inc_surf_humed_5_rate = np.std(increasing_surf_humed_5_rate)\n",
    "std_dec_surf_humed_5_rate = np.std(decreasing_surf_humed_5_rate)"
   ]
  },
  {
   "attachments": {},
   "cell_type": "markdown",
   "metadata": {},
   "source": [
    "#### Mean of rate of humedity 5"
   ]
  },
  {
   "cell_type": "code",
   "execution_count": 301,
   "metadata": {},
   "outputs": [
    {
     "name": "stdout",
     "output_type": "stream",
     "text": [
      "Mean of increasing rate of humedity 5 :  0.0001076450596688633 [percent/sec]\n",
      "Mean of decreasing rate of humedity 5 :  -0.00032156617851374357 [percent/sec]\n"
     ]
    }
   ],
   "source": [
    "print(\"Mean of increasing rate of humedity 5 : \", str(mean_inc_humed_5_rate_1) + \" [percent/sec]\")\n",
    "print(\"Mean of decreasing rate of humedity 5 : \", str(mean_dec_humed_5_rate_1) + \" [percent/sec]\")"
   ]
  },
  {
   "cell_type": "code",
   "execution_count": 302,
   "metadata": {},
   "outputs": [
    {
     "name": "stdout",
     "output_type": "stream",
     "text": [
      "Mean of increasing rate of humedity 5 :  0.00014160731520857533 [percent/sec]\n",
      "Mean of decreasing rate of humedity 5 :  -9.503696351883914e-05 [percent/sec]\n"
     ]
    }
   ],
   "source": [
    "print(\"Mean of increasing rate of humedity 5 : \", str(mean_inc_humed_5_rate_2) + \" [percent/sec]\")\n",
    "print(\"Mean of decreasing rate of humedity 5 : \", str(mean_dec_humed_5_rate_2) + \" [percent/sec]\")"
   ]
  },
  {
   "cell_type": "code",
   "execution_count": 303,
   "metadata": {},
   "outputs": [
    {
     "name": "stdout",
     "output_type": "stream",
     "text": [
      "Mean of increasing rate of humedity 5 :  0.011557045437396699 [percent/sec]\n",
      "Mean of decreasing rate of humedity 5 :  -0.017984082416360486 [percent/sec]\n"
     ]
    }
   ],
   "source": [
    "print(\"Mean of increasing rate of humedity 5 : \", str(mean_inc_surf_humed_5_rate) + \" [percent/sec]\")\n",
    "print(\"Mean of decreasing rate of humedity 5 : \", str(mean_dec_surf_humed_5_rate) + \" [percent/sec]\")"
   ]
  },
  {
   "attachments": {},
   "cell_type": "markdown",
   "metadata": {},
   "source": [
    "#### Std of rate of humedity 5"
   ]
  },
  {
   "cell_type": "code",
   "execution_count": 304,
   "metadata": {},
   "outputs": [
    {
     "name": "stdout",
     "output_type": "stream",
     "text": [
      "Std of increasing of humedity 5 :  3.396361079992027e-05\n",
      "Std of decreasing of humedity 5 :  0.0003574286535669934\n"
     ]
    }
   ],
   "source": [
    "print(\"Std of increasing of humedity 5 : \", str(std_inc_humed_5_rate_1))\n",
    "print(\"Std of decreasing of humedity 5 : \", str(std_dec_humed_5_rate_1))"
   ]
  },
  {
   "cell_type": "code",
   "execution_count": 305,
   "metadata": {},
   "outputs": [
    {
     "name": "stdout",
     "output_type": "stream",
     "text": [
      "Std of increasing rate of humedity 5 :  5.481815908844053e-05\n",
      "Std of decreasing rate of humedity 5 :  1.1340240847237087e-05\n"
     ]
    }
   ],
   "source": [
    "print(\"Std of increasing rate of humedity 5 : \", str(std_inc_humed_5_rate_2))\n",
    "print(\"Std of decreasing rate of humedity 5 : \", str(std_dec_humed_5_rate_2))"
   ]
  },
  {
   "cell_type": "code",
   "execution_count": 306,
   "metadata": {},
   "outputs": [
    {
     "name": "stdout",
     "output_type": "stream",
     "text": [
      "Std of increasing rate of humedity 5 :  0.04625332952525258\n",
      "Std of decreasing rate of humedity 5 :  0.05025343723605187\n"
     ]
    }
   ],
   "source": [
    "print(\"Std of increasing rate of humedity 5 : \", str(std_inc_surf_humed_5_rate))\n",
    "print(\"Std of decreasing rate of humedity 5 : \", str(std_dec_surf_humed_5_rate))"
   ]
  },
  {
   "attachments": {},
   "cell_type": "markdown",
   "metadata": {},
   "source": [
    "### Humedity 6"
   ]
  },
  {
   "attachments": {},
   "cell_type": "markdown",
   "metadata": {},
   "source": [
    "#### Sub Irrigation Phase 1"
   ]
  },
  {
   "cell_type": "code",
   "execution_count": 307,
   "metadata": {},
   "outputs": [],
   "source": [
    "humed_6_rate_1, increasing_humed_6_rate_1, decreasing_humed_6_rate_1 = humed_data_analysis([sub_irr_1_arr[0], sub_irr_1_arr[7]])"
   ]
  },
  {
   "cell_type": "code",
   "execution_count": 308,
   "metadata": {},
   "outputs": [],
   "source": [
    "mean_inc_humed_6_rate_1 = np.mean(increasing_humed_6_rate_1)\n",
    "mean_dec_humed_6_rate_1 = np.mean(decreasing_humed_6_rate_1)\n",
    "std_inc_humed_6_rate_1 = np.std(increasing_humed_6_rate_1)\n",
    "std_dec_humed_6_rate_1 = np.std(decreasing_humed_6_rate_1)"
   ]
  },
  {
   "attachments": {},
   "cell_type": "markdown",
   "metadata": {},
   "source": [
    "#### Sub Irrigation Phase 2"
   ]
  },
  {
   "cell_type": "code",
   "execution_count": 309,
   "metadata": {},
   "outputs": [],
   "source": [
    "humed_6_rate_2, increasing_humed_6_rate_2, decreasing_humed_6_rate_2 = humed_data_analysis([sub_irr_2_arr[0], sub_irr_2_arr[7]])"
   ]
  },
  {
   "cell_type": "code",
   "execution_count": 310,
   "metadata": {},
   "outputs": [],
   "source": [
    "mean_inc_humed_6_rate_2 = np.mean(increasing_humed_6_rate_2)\n",
    "mean_dec_humed_6_rate_2 = np.mean(decreasing_humed_6_rate_2)\n",
    "std_inc_humed_6_rate_2 = np.std(increasing_humed_6_rate_2)\n",
    "std_dec_humed_6_rate_2 = np.std(decreasing_humed_6_rate_2)"
   ]
  },
  {
   "attachments": {},
   "cell_type": "markdown",
   "metadata": {},
   "source": [
    "#### Soil serface watering"
   ]
  },
  {
   "cell_type": "code",
   "execution_count": 311,
   "metadata": {},
   "outputs": [],
   "source": [
    "surf_humed_6_rate, increasing_surf_humed_6_rate, decreasing_surf_humed_6_rate = humed_data_analysis([surf_wat_arr[0], surf_wat_arr[7]])"
   ]
  },
  {
   "cell_type": "code",
   "execution_count": 312,
   "metadata": {},
   "outputs": [],
   "source": [
    "mean_inc_surf_humed_6_rate = np.mean(increasing_surf_humed_6_rate)\n",
    "mean_dec_surf_humed_6_rate = np.mean(decreasing_surf_humed_6_rate)\n",
    "std_inc_surf_humed_6_rate = np.std(increasing_surf_humed_6_rate)\n",
    "std_dec_surf_humed_6_rate = np.std(decreasing_surf_humed_6_rate)"
   ]
  },
  {
   "attachments": {},
   "cell_type": "markdown",
   "metadata": {},
   "source": [
    "#### Mean of rate of humedity 6"
   ]
  },
  {
   "cell_type": "code",
   "execution_count": 313,
   "metadata": {},
   "outputs": [
    {
     "name": "stdout",
     "output_type": "stream",
     "text": [
      "Mean of increasing rate of humedity 6 :  0.00024602265271440584 [percent/sec]\n",
      "Mean of decreasing rate of humedity 6 :  -0.00036113886395989597 [percent/sec]\n"
     ]
    }
   ],
   "source": [
    "print(\"Mean of increasing rate of humedity 6 : \", str(mean_inc_humed_6_rate_1) + \" [percent/sec]\")\n",
    "print(\"Mean of decreasing rate of humedity 6 : \", str(mean_dec_humed_6_rate_1) + \" [percent/sec]\")"
   ]
  },
  {
   "cell_type": "code",
   "execution_count": 314,
   "metadata": {},
   "outputs": [
    {
     "name": "stdout",
     "output_type": "stream",
     "text": [
      "Mean of increasing rate of humedity 6 :  0.00011321205798046945 [percent/sec]\n",
      "Mean of decreasing rate of humedity 6 :  -9.890415022296875e-05 [percent/sec]\n"
     ]
    }
   ],
   "source": [
    "print(\"Mean of increasing rate of humedity 6 : \", str(mean_inc_humed_6_rate_2) + \" [percent/sec]\")\n",
    "print(\"Mean of decreasing rate of humedity 6 : \", str(mean_dec_humed_6_rate_2) + \" [percent/sec]\")"
   ]
  },
  {
   "cell_type": "code",
   "execution_count": 315,
   "metadata": {},
   "outputs": [
    {
     "name": "stdout",
     "output_type": "stream",
     "text": [
      "Mean of increasing rate of humedity 6 :  0.0001438415056384469 [percent/sec]\n",
      "Mean of decreasing rate of humedity 6 :  -8.720481559085322e-05 [percent/sec]\n"
     ]
    }
   ],
   "source": [
    "print(\"Mean of increasing rate of humedity 6 : \", str(mean_inc_surf_humed_6_rate) + \" [percent/sec]\")\n",
    "print(\"Mean of decreasing rate of humedity 6 : \", str(mean_dec_surf_humed_6_rate) + \" [percent/sec]\")"
   ]
  },
  {
   "attachments": {},
   "cell_type": "markdown",
   "metadata": {},
   "source": [
    "#### Std of rate of humedity 6"
   ]
  },
  {
   "cell_type": "code",
   "execution_count": 316,
   "metadata": {},
   "outputs": [
    {
     "name": "stdout",
     "output_type": "stream",
     "text": [
      "Std of increasing of humedity 6 :  0.00045136625466847503\n",
      "Std of decreasing of humedity 6 :  0.0010065970069775855\n"
     ]
    }
   ],
   "source": [
    "print(\"Std of increasing of humedity 6 : \", str(std_inc_humed_6_rate_1))\n",
    "print(\"Std of decreasing of humedity 6 : \", str(std_dec_humed_6_rate_1))"
   ]
  },
  {
   "cell_type": "code",
   "execution_count": 317,
   "metadata": {},
   "outputs": [
    {
     "name": "stdout",
     "output_type": "stream",
     "text": [
      "Std of increasing rate of humedity 6 :  4.66849940838633e-05\n",
      "Std of decreasing rate of humedity 6 :  4.043483871893605e-05\n"
     ]
    }
   ],
   "source": [
    "print(\"Std of increasing rate of humedity 6 : \", str(std_inc_humed_6_rate_2))\n",
    "print(\"Std of decreasing rate of humedity 6 : \", str(std_dec_humed_6_rate_2))"
   ]
  },
  {
   "cell_type": "code",
   "execution_count": 318,
   "metadata": {},
   "outputs": [
    {
     "name": "stdout",
     "output_type": "stream",
     "text": [
      "Std of increasing rate of humedity 6 :  0.00022796286569824078\n",
      "Std of decreasing rate of humedity 6 :  3.302457452211198e-05\n"
     ]
    }
   ],
   "source": [
    "print(\"Std of increasing rate of humedity 6 : \", str(std_inc_surf_humed_6_rate))\n",
    "print(\"Std of decreasing rate of humedity 6 : \", str(std_dec_surf_humed_6_rate))"
   ]
  },
  {
   "attachments": {},
   "cell_type": "markdown",
   "metadata": {},
   "source": [
    "### Humedity 7"
   ]
  },
  {
   "attachments": {},
   "cell_type": "markdown",
   "metadata": {},
   "source": [
    "#### Sub Irrigation Phase 1"
   ]
  },
  {
   "cell_type": "code",
   "execution_count": 319,
   "metadata": {},
   "outputs": [],
   "source": [
    "humed_7_rate_1, increasing_humed_7_rate_1, decreasing_humed_7_rate_1 = humed_data_analysis([sub_irr_1_arr[0], sub_irr_1_arr[8]])"
   ]
  },
  {
   "cell_type": "code",
   "execution_count": 320,
   "metadata": {},
   "outputs": [],
   "source": [
    "mean_inc_humed_7_rate_1 = np.mean(increasing_humed_7_rate_1)\n",
    "mean_dec_humed_7_rate_1 = np.mean(decreasing_humed_7_rate_1)\n",
    "std_inc_humed_7_rate_1 = np.std(increasing_humed_7_rate_1)\n",
    "std_dec_humed_7_rate_1 = np.std(decreasing_humed_7_rate_1)"
   ]
  },
  {
   "attachments": {},
   "cell_type": "markdown",
   "metadata": {},
   "source": [
    "#### Sub Irrigation Phase 2"
   ]
  },
  {
   "cell_type": "code",
   "execution_count": 321,
   "metadata": {},
   "outputs": [],
   "source": [
    "humed_7_rate_2, increasing_humed_7_rate_2, decreasing_humed_7_rate_2 = humed_data_analysis([sub_irr_2_arr[0], sub_irr_2_arr[8]])"
   ]
  },
  {
   "cell_type": "code",
   "execution_count": 322,
   "metadata": {},
   "outputs": [],
   "source": [
    "mean_inc_humed_7_rate_2 = np.mean(increasing_humed_7_rate_2)\n",
    "mean_dec_humed_7_rate_2 = np.mean(decreasing_humed_7_rate_2)\n",
    "std_inc_humed_7_rate_2 = np.std(increasing_humed_7_rate_2)\n",
    "std_dec_humed_7_rate_2 = np.std(decreasing_humed_7_rate_2)"
   ]
  },
  {
   "attachments": {},
   "cell_type": "markdown",
   "metadata": {},
   "source": [
    "#### Soil serface watering"
   ]
  },
  {
   "cell_type": "code",
   "execution_count": 323,
   "metadata": {},
   "outputs": [],
   "source": [
    "surf_humed_7_rate, increasing_surf_humed_7_rate, decreasing_surf_humed_7_rate = humed_data_analysis([surf_wat_arr[0], surf_wat_arr[8]])"
   ]
  },
  {
   "cell_type": "code",
   "execution_count": 324,
   "metadata": {},
   "outputs": [],
   "source": [
    "mean_inc_surf_humed_7_rate = np.mean(increasing_surf_humed_7_rate)\n",
    "mean_dec_surf_humed_7_rate = np.mean(decreasing_surf_humed_7_rate)\n",
    "std_inc_surf_humed_7_rate = np.std(increasing_surf_humed_7_rate)\n",
    "std_dec_surf_humed_7_rate = np.std(decreasing_surf_humed_7_rate)"
   ]
  },
  {
   "attachments": {},
   "cell_type": "markdown",
   "metadata": {},
   "source": [
    "#### Mean of rate of humedity 7"
   ]
  },
  {
   "cell_type": "code",
   "execution_count": 325,
   "metadata": {},
   "outputs": [
    {
     "name": "stdout",
     "output_type": "stream",
     "text": [
      "Mean of increasing rate of humedity 7 :  0.0003484209545192217 [percent/sec]\n",
      "Mean of decreasing rate of humedity 7 :  -0.00030792198502392284 [percent/sec]\n"
     ]
    }
   ],
   "source": [
    "print(\"Mean of increasing rate of humedity 7 : \", str(mean_inc_humed_7_rate_1) + \" [percent/sec]\")\n",
    "print(\"Mean of decreasing rate of humedity 7 : \", str(mean_dec_humed_7_rate_1) + \" [percent/sec]\")"
   ]
  },
  {
   "cell_type": "code",
   "execution_count": null,
   "metadata": {},
   "outputs": [
    {
     "name": "stdout",
     "output_type": "stream",
     "text": [
      "Mean of increasing rate of humedity 2 :  0.0025612804078563927 [percent/sec]\n",
      "Mean of decreasing rate of humedity 2 :  -0.0006935280963319632 [percent/sec]\n"
     ]
    }
   ],
   "source": [
    "print(\"Mean of increasing rate of humedity 7 : \", str(mean_inc_humed_7_rate_2) + \" [percent/sec]\")\n",
    "print(\"Mean of decreasing rate of humedity 7 : \", str(mean_dec_humed_7_rate_2) + \" [percent/sec]\")"
   ]
  },
  {
   "cell_type": "code",
   "execution_count": null,
   "metadata": {},
   "outputs": [
    {
     "name": "stdout",
     "output_type": "stream",
     "text": [
      "Mean of increasing rate of humedity 2 :  0.007646257062185017 [percent/sec]\n",
      "Mean of decreasing rate of humedity 2 :  -0.001561528318424355 [percent/sec]\n"
     ]
    }
   ],
   "source": [
    "print(\"Mean of increasing rate of humedity 7 : \", str(mean_inc_surf_humed_7_rate) + \" [percent/sec]\")\n",
    "print(\"Mean of decreasing rate of humedity 7 : \", str(mean_dec_surf_humed_7_rate) + \" [percent/sec]\")"
   ]
  },
  {
   "attachments": {},
   "cell_type": "markdown",
   "metadata": {},
   "source": [
    "#### Std of rate of humedity 7"
   ]
  },
  {
   "cell_type": "code",
   "execution_count": 326,
   "metadata": {},
   "outputs": [
    {
     "name": "stdout",
     "output_type": "stream",
     "text": [
      "Std of increasing of humedity 7 :  0.0017471737286744284\n",
      "Std of decreasing of humedity 7 :  0.00041695162098619106\n"
     ]
    }
   ],
   "source": [
    "print(\"Std of increasing of humedity 7 : \", str(std_inc_humed_7_rate_1))\n",
    "print(\"Std of decreasing of humedity 7 : \", str(std_dec_humed_7_rate_1))"
   ]
  },
  {
   "cell_type": "code",
   "execution_count": 327,
   "metadata": {},
   "outputs": [
    {
     "name": "stdout",
     "output_type": "stream",
     "text": [
      "Std of increasing rate of humedity 7 :  0.00037768578790434794\n",
      "Std of decreasing rate of humedity 7 :  0.00016273544991685055\n"
     ]
    }
   ],
   "source": [
    "print(\"Std of increasing rate of humedity 7 : \", str(std_inc_humed_7_rate_2))\n",
    "print(\"Std of decreasing rate of humedity 7 : \", str(std_dec_humed_7_rate_2))"
   ]
  },
  {
   "cell_type": "code",
   "execution_count": 328,
   "metadata": {},
   "outputs": [
    {
     "name": "stdout",
     "output_type": "stream",
     "text": [
      "Std of increasing rate of humedity 7 :  0.014335326821457084\n",
      "Std of decreasing rate of humedity 7 :  0.01184239137300079\n"
     ]
    }
   ],
   "source": [
    "print(\"Std of increasing rate of humedity 7 : \", str(std_inc_surf_humed_7_rate))\n",
    "print(\"Std of decreasing rate of humedity 7 : \", str(std_dec_surf_humed_7_rate))"
   ]
  },
  {
   "attachments": {},
   "cell_type": "markdown",
   "metadata": {},
   "source": [
    "### Humedity 8"
   ]
  },
  {
   "attachments": {},
   "cell_type": "markdown",
   "metadata": {},
   "source": [
    "#### Sub Irrigation Phase 1"
   ]
  },
  {
   "cell_type": "code",
   "execution_count": 329,
   "metadata": {},
   "outputs": [],
   "source": [
    "humed_8_rate_1, increasing_humed_8_rate_1, decreasing_humed_8_rate_1 = humed_data_analysis([sub_irr_1_arr[0], sub_irr_1_arr[9]])"
   ]
  },
  {
   "cell_type": "code",
   "execution_count": 330,
   "metadata": {},
   "outputs": [],
   "source": [
    "mean_inc_humed_8_rate_1 = np.mean(increasing_humed_8_rate_1)\n",
    "mean_dec_humed_8_rate_1 = np.mean(decreasing_humed_8_rate_1)\n",
    "std_inc_humed_8_rate_1 = np.std(increasing_humed_8_rate_1)\n",
    "std_dec_humed_8_rate_1 = np.std(decreasing_humed_8_rate_1)"
   ]
  },
  {
   "attachments": {},
   "cell_type": "markdown",
   "metadata": {},
   "source": [
    "#### Sub Irrigation Phase 2"
   ]
  },
  {
   "cell_type": "code",
   "execution_count": 331,
   "metadata": {},
   "outputs": [],
   "source": [
    "humed_8_rate_2, increasing_humed_8_rate_2, decreasing_humed_8_rate_2 = humed_data_analysis([sub_irr_2_arr[0], sub_irr_2_arr[9]])"
   ]
  },
  {
   "cell_type": "code",
   "execution_count": 332,
   "metadata": {},
   "outputs": [],
   "source": [
    "mean_inc_humed_8_rate_2 = np.mean(increasing_humed_8_rate_2)\n",
    "mean_dec_humed_8_rate_2 = np.mean(decreasing_humed_8_rate_2)\n",
    "std_inc_humed_8_rate_2 = np.std(increasing_humed_8_rate_2)\n",
    "std_dec_humed_8_rate_2 = np.std(decreasing_humed_8_rate_2)"
   ]
  },
  {
   "attachments": {},
   "cell_type": "markdown",
   "metadata": {},
   "source": [
    "#### Soil serface watering"
   ]
  },
  {
   "cell_type": "code",
   "execution_count": 333,
   "metadata": {},
   "outputs": [],
   "source": [
    "surf_humed_8_rate, increasing_surf_humed_8_rate, decreasing_surf_humed_8_rate = humed_data_analysis([surf_wat_arr[0], surf_wat_arr[9]])"
   ]
  },
  {
   "cell_type": "code",
   "execution_count": 334,
   "metadata": {},
   "outputs": [],
   "source": [
    "mean_inc_surf_humed_8_rate = np.mean(increasing_surf_humed_8_rate)\n",
    "mean_dec_surf_humed_8_rate = np.mean(decreasing_surf_humed_8_rate)\n",
    "std_inc_surf_humed_8_rate = np.std(increasing_surf_humed_8_rate)\n",
    "std_dec_surf_humed_8_rate = np.std(decreasing_surf_humed_8_rate)"
   ]
  },
  {
   "attachments": {},
   "cell_type": "markdown",
   "metadata": {},
   "source": [
    "#### Mean of rate of humedity 8"
   ]
  },
  {
   "cell_type": "code",
   "execution_count": 335,
   "metadata": {},
   "outputs": [
    {
     "name": "stdout",
     "output_type": "stream",
     "text": [
      "Mean of increasing rate of humedity 8 :  0.0004200719399074615 [percent/sec]\n",
      "Mean of decreasing rate of humedity 8 :  -0.0006142240827557979 [percent/sec]\n"
     ]
    }
   ],
   "source": [
    "print(\"Mean of increasing rate of humedity 8 : \", str(mean_inc_humed_8_rate_1) + \" [percent/sec]\")\n",
    "print(\"Mean of decreasing rate of humedity 8 : \", str(mean_dec_humed_8_rate_1) + \" [percent/sec]\")"
   ]
  },
  {
   "cell_type": "code",
   "execution_count": 336,
   "metadata": {},
   "outputs": [
    {
     "name": "stdout",
     "output_type": "stream",
     "text": [
      "Mean of increasing rate of humedity 8 :  0.00010468870692185337 [percent/sec]\n",
      "Mean of decreasing rate of humedity 8 :  -0.00012137257472404737 [percent/sec]\n"
     ]
    }
   ],
   "source": [
    "print(\"Mean of increasing rate of humedity 8 : \", str(mean_inc_humed_8_rate_2) + \" [percent/sec]\")\n",
    "print(\"Mean of decreasing rate of humedity 8 : \", str(mean_dec_humed_8_rate_2) + \" [percent/sec]\")"
   ]
  },
  {
   "cell_type": "code",
   "execution_count": 337,
   "metadata": {},
   "outputs": [
    {
     "name": "stdout",
     "output_type": "stream",
     "text": [
      "Mean of increasing rate of humedity 8 :  0.003277495507793663 [percent/sec]\n",
      "Mean of decreasing rate of humedity 8 :  -0.0026946383914107806 [percent/sec]\n"
     ]
    }
   ],
   "source": [
    "print(\"Mean of increasing rate of humedity 8 : \", str(mean_inc_surf_humed_8_rate) + \" [percent/sec]\")\n",
    "print(\"Mean of decreasing rate of humedity 8 : \", str(mean_dec_surf_humed_8_rate) + \" [percent/sec]\")"
   ]
  },
  {
   "attachments": {},
   "cell_type": "markdown",
   "metadata": {},
   "source": [
    "#### Std of rate of humedity 8"
   ]
  },
  {
   "cell_type": "code",
   "execution_count": 338,
   "metadata": {},
   "outputs": [
    {
     "name": "stdout",
     "output_type": "stream",
     "text": [
      "Std of increasing of humedity 8 :  0.004018189695469956\n",
      "Std of decreasing of humedity 8 :  0.005209024548947004\n"
     ]
    }
   ],
   "source": [
    "print(\"Std of increasing of humedity 8 : \", str(std_inc_humed_8_rate_1))\n",
    "print(\"Std of decreasing of humedity 8 : \", str(std_dec_humed_8_rate_1))"
   ]
  },
  {
   "cell_type": "code",
   "execution_count": 339,
   "metadata": {},
   "outputs": [
    {
     "name": "stdout",
     "output_type": "stream",
     "text": [
      "Std of increasing rate of humedity 8 :  3.3091053914579295e-05\n",
      "Std of decreasing rate of humedity 8 :  4.862221002184027e-05\n"
     ]
    }
   ],
   "source": [
    "print(\"Std of increasing rate of humedity 8 : \", str(std_inc_humed_8_rate_2))\n",
    "print(\"Std of decreasing rate of humedity 8 : \", str(std_dec_humed_8_rate_2))"
   ]
  },
  {
   "cell_type": "code",
   "execution_count": 340,
   "metadata": {},
   "outputs": [
    {
     "name": "stdout",
     "output_type": "stream",
     "text": [
      "Std of increasing rate of humedity 8 :  0.01709702764855162\n",
      "Std of decreasing rate of humedity 8 :  0.008502562635030988\n"
     ]
    }
   ],
   "source": [
    "print(\"Std of increasing rate of humedity 8 : \", str(std_inc_surf_humed_8_rate))\n",
    "print(\"Std of decreasing rate of humedity 8 : \", str(std_dec_surf_humed_8_rate))"
   ]
  },
  {
   "attachments": {},
   "cell_type": "markdown",
   "metadata": {},
   "source": [
    "### Humedity 9"
   ]
  },
  {
   "attachments": {},
   "cell_type": "markdown",
   "metadata": {},
   "source": [
    "#### Sub Irrigation Phase 1"
   ]
  },
  {
   "cell_type": "code",
   "execution_count": 341,
   "metadata": {},
   "outputs": [],
   "source": [
    "humed_9_rate_1, increasing_humed_9_rate_1, decreasing_humed_9_rate_1 = humed_data_analysis([sub_irr_1_arr[0], sub_irr_1_arr[10]])"
   ]
  },
  {
   "cell_type": "code",
   "execution_count": 342,
   "metadata": {},
   "outputs": [],
   "source": [
    "mean_inc_humed_9_rate_1 = np.mean(increasing_humed_9_rate_1)\n",
    "mean_dec_humed_9_rate_1 = np.mean(decreasing_humed_9_rate_1)\n",
    "std_inc_humed_9_rate_1 = np.std(increasing_humed_9_rate_1)\n",
    "std_dec_humed_9_rate_1 = np.std(decreasing_humed_9_rate_1)"
   ]
  },
  {
   "attachments": {},
   "cell_type": "markdown",
   "metadata": {},
   "source": [
    "#### Sub Irrigation Phase 2"
   ]
  },
  {
   "cell_type": "code",
   "execution_count": 343,
   "metadata": {},
   "outputs": [],
   "source": [
    "humed_9_rate_2, increasing_humed_9_rate_2, decreasing_humed_9_rate_2 = humed_data_analysis([sub_irr_2_arr[0], sub_irr_2_arr[10]])"
   ]
  },
  {
   "cell_type": "code",
   "execution_count": 344,
   "metadata": {},
   "outputs": [],
   "source": [
    "mean_inc_humed_9_rate_2 = np.mean(increasing_humed_9_rate_2)\n",
    "mean_dec_humed_9_rate_2 = np.mean(decreasing_humed_9_rate_2)\n",
    "std_inc_humed_9_rate_2 = np.std(increasing_humed_9_rate_2)\n",
    "std_dec_humed_9_rate_2 = np.std(decreasing_humed_9_rate_2)"
   ]
  },
  {
   "attachments": {},
   "cell_type": "markdown",
   "metadata": {},
   "source": [
    "#### Soil serface watering"
   ]
  },
  {
   "cell_type": "code",
   "execution_count": 345,
   "metadata": {},
   "outputs": [],
   "source": [
    "surf_humed_9_rate, increasing_surf_humed_9_rate, decreasing_surf_humed_9_rate = humed_data_analysis([surf_wat_arr[0], surf_wat_arr[10]])"
   ]
  },
  {
   "cell_type": "code",
   "execution_count": 346,
   "metadata": {},
   "outputs": [],
   "source": [
    "mean_inc_surf_humed_9_rate = np.mean(increasing_surf_humed_9_rate)\n",
    "mean_dec_surf_humed_9_rate = np.mean(decreasing_surf_humed_9_rate)\n",
    "std_inc_surf_humed_9_rate = np.std(increasing_surf_humed_9_rate)\n",
    "std_dec_surf_humed_9_rate = np.std(decreasing_surf_humed_9_rate)"
   ]
  },
  {
   "attachments": {},
   "cell_type": "markdown",
   "metadata": {},
   "source": [
    "#### Mean of rate of humedity 9"
   ]
  },
  {
   "cell_type": "code",
   "execution_count": 347,
   "metadata": {},
   "outputs": [
    {
     "name": "stdout",
     "output_type": "stream",
     "text": [
      "Mean of increasing rate of humedity 9 :  0.00016375508662804856 [percent/sec]\n",
      "Mean of decreasing rate of humedity 9 :  -0.00031789313675375814 [percent/sec]\n"
     ]
    }
   ],
   "source": [
    "print(\"Mean of increasing rate of humedity 9 : \", str(mean_inc_humed_9_rate_1) + \" [percent/sec]\")\n",
    "print(\"Mean of decreasing rate of humedity 9 : \", str(mean_dec_humed_9_rate_1) + \" [percent/sec]\")"
   ]
  },
  {
   "cell_type": "code",
   "execution_count": 348,
   "metadata": {},
   "outputs": [
    {
     "name": "stdout",
     "output_type": "stream",
     "text": [
      "Mean of increasing rate of humedity 9 :  0.00011120796847281984 [percent/sec]\n",
      "Mean of decreasing rate of humedity 9 :  -0.00010275200765273422 [percent/sec]\n"
     ]
    }
   ],
   "source": [
    "print(\"Mean of increasing rate of humedity 9 : \", str(mean_inc_humed_9_rate_2) + \" [percent/sec]\")\n",
    "print(\"Mean of decreasing rate of humedity 9 : \", str(mean_dec_humed_9_rate_2) + \" [percent/sec]\")"
   ]
  },
  {
   "cell_type": "code",
   "execution_count": 349,
   "metadata": {},
   "outputs": [
    {
     "name": "stdout",
     "output_type": "stream",
     "text": [
      "Mean of increasing rate of humedity 9 :  0.001700422466005682 [percent/sec]\n",
      "Mean of decreasing rate of humedity 9 :  -0.0033146679936461 [percent/sec]\n"
     ]
    }
   ],
   "source": [
    "print(\"Mean of increasing rate of humedity 9 : \", str(mean_inc_surf_humed_9_rate) + \" [percent/sec]\")\n",
    "print(\"Mean of decreasing rate of humedity 9 : \", str(mean_dec_surf_humed_9_rate) + \" [percent/sec]\")"
   ]
  },
  {
   "attachments": {},
   "cell_type": "markdown",
   "metadata": {},
   "source": [
    "#### Std of rate of humedity 9"
   ]
  },
  {
   "cell_type": "code",
   "execution_count": 350,
   "metadata": {},
   "outputs": [
    {
     "name": "stdout",
     "output_type": "stream",
     "text": [
      "Std of increasing of humedity 9 :  0.0001329461377015173\n",
      "Std of decreasing of humedity 9 :  0.0008816064872842435\n"
     ]
    }
   ],
   "source": [
    "print(\"Std of increasing of humedity 9 : \", str(std_inc_humed_9_rate_1))\n",
    "print(\"Std of decreasing of humedity 9 : \", str(std_dec_humed_9_rate_1))"
   ]
  },
  {
   "cell_type": "code",
   "execution_count": 351,
   "metadata": {},
   "outputs": [
    {
     "name": "stdout",
     "output_type": "stream",
     "text": [
      "Std of increasing rate of humedity 9 :  4.099929067391329e-05\n",
      "Std of decreasing rate of humedity 9 :  4.415581474050594e-05\n"
     ]
    }
   ],
   "source": [
    "print(\"Std of increasing rate of humedity 9 : \", str(std_inc_humed_9_rate_2))\n",
    "print(\"Std of decreasing rate of humedity 9 : \", str(std_dec_humed_9_rate_2))"
   ]
  },
  {
   "cell_type": "code",
   "execution_count": 352,
   "metadata": {},
   "outputs": [
    {
     "name": "stdout",
     "output_type": "stream",
     "text": [
      "Std of increasing rate of humedity 9 :  0.010224582219547688\n",
      "Std of decreasing rate of humedity 9 :  0.01777736673701323\n"
     ]
    }
   ],
   "source": [
    "print(\"Std of increasing rate of humedity 9 : \", str(std_inc_surf_humed_9_rate))\n",
    "print(\"Std of decreasing rate of humedity 9 : \", str(std_dec_surf_humed_9_rate))"
   ]
  },
  {
   "attachments": {},
   "cell_type": "markdown",
   "metadata": {},
   "source": [
    "## Summarization"
   ]
  },
  {
   "cell_type": "code",
   "execution_count": 463,
   "metadata": {},
   "outputs": [],
   "source": [
    "positive_sub_irr_1_rate = pd.DataFrame([np.full((780,), \"1\"), increasing_water_level_rate_1, \n",
    "                            increasing_humed_1_rate_1, increasing_humed_2_rate_1, increasing_humed_3_rate_1, \n",
    "                            increasing_humed_4_rate_1, increasing_humed_5_rate_1, increasing_humed_6_rate_1, \n",
    "                            increasing_humed_7_rate_1, increasing_humed_8_rate_1, increasing_humed_9_rate_1]).T\n",
    "negative_sub_irr_1_rate = pd.DataFrame([np.full((780,), \"1\"), decreasing_water_level_rate_1, \n",
    "                            decreasing_humed_1_rate_1, decreasing_humed_2_rate_1, decreasing_humed_3_rate_1, \n",
    "                            decreasing_humed_4_rate_1, decreasing_humed_5_rate_1, decreasing_humed_6_rate_1, \n",
    "                            decreasing_humed_7_rate_1, decreasing_humed_8_rate_1, decreasing_humed_9_rate_1]).T\n",
    "positive_sub_irr_2_rate = pd.DataFrame([np.full((780,), \"2\"), increasing_water_level_rate_2, \n",
    "                            increasing_humed_1_rate_2, increasing_humed_2_rate_2, increasing_humed_3_rate_2, \n",
    "                            increasing_humed_4_rate_2, increasing_humed_5_rate_2, increasing_humed_6_rate_2, \n",
    "                            increasing_humed_7_rate_2, increasing_humed_8_rate_2, increasing_humed_9_rate_2]).T\n",
    "negative_sub_irr_2_rate = pd.DataFrame([np.full((780,), \"2\"), decreasing_water_level_rate_2, \n",
    "                            decreasing_humed_1_rate_2, decreasing_humed_2_rate_2, decreasing_humed_3_rate_2, \n",
    "                            decreasing_humed_4_rate_2, decreasing_humed_5_rate_2, decreasing_humed_6_rate_2, \n",
    "                            decreasing_humed_7_rate_2, decreasing_humed_8_rate_2, decreasing_humed_9_rate_2]).T\n",
    "positive_surf_sub_irr_rate = pd.DataFrame([np.full((780,), \"3\"), surf_increasing_water_level_rate, \n",
    "                            increasing_humed_1_rate_1, increasing_humed_2_rate_1, increasing_humed_3_rate_1, \n",
    "                            increasing_humed_4_rate_1, increasing_humed_5_rate_1, increasing_humed_6_rate_1, \n",
    "                            increasing_humed_7_rate_1, increasing_humed_8_rate_1, increasing_humed_9_rate_1]).T\n",
    "negative_surf_sub_irr_rate = pd.DataFrame([np.full((780,), \"3\"), surf_decreasing_water_level_rate, \n",
    "                            decreasing_humed_1_rate_1, decreasing_humed_2_rate_1, decreasing_humed_3_rate_1, \n",
    "                            decreasing_humed_4_rate_1, decreasing_humed_5_rate_1, decreasing_humed_6_rate_1, \n",
    "                            decreasing_humed_7_rate_1, decreasing_humed_8_rate_1, decreasing_humed_9_rate_1]).T\n",
    "\n",
    "mean_inc_sub_irr_1 = [\"sub_irr_1\", mean_inc_water_rate_1,\n",
    "                        mean_inc_humed_1_rate_1, mean_inc_humed_2_rate_1, mean_inc_humed_3_rate_1, \n",
    "                        mean_inc_humed_4_rate_1, mean_inc_humed_5_rate_1, mean_inc_humed_6_rate_1,\n",
    "                        mean_inc_humed_7_rate_1, mean_inc_humed_8_rate_1, mean_inc_humed_9_rate_1]\n",
    "mean_dec_sub_irr_1 = [\"sub_irr_1\", mean_dec_water_rate_1, \n",
    "                        mean_dec_humed_1_rate_1, mean_dec_humed_2_rate_1, mean_dec_humed_3_rate_1, \n",
    "                        mean_dec_humed_4_rate_1, mean_dec_humed_5_rate_1, mean_dec_humed_6_rate_1,\n",
    "                        mean_dec_humed_7_rate_1, mean_dec_humed_8_rate_1, mean_dec_humed_9_rate_1]\n",
    "mean_inc_sub_irr_2 = [\"sub_irr_2\", mean_inc_water_rate_2,\n",
    "                        mean_inc_humed_1_rate_2, mean_inc_humed_2_rate_2, mean_inc_humed_3_rate_2, \n",
    "                        mean_inc_humed_4_rate_2, mean_inc_humed_5_rate_2, mean_inc_humed_6_rate_2,\n",
    "                        mean_inc_humed_7_rate_2, mean_inc_humed_8_rate_2, mean_inc_humed_9_rate_2]\n",
    "mean_dec_sub_irr_2 = [\"sub_irr_2\", mean_dec_water_rate_2,\n",
    "                        mean_dec_humed_1_rate_2, mean_dec_humed_2_rate_2, mean_dec_humed_3_rate_2, \n",
    "                        mean_dec_humed_4_rate_2, mean_dec_humed_5_rate_2, mean_dec_humed_6_rate_2,\n",
    "                        mean_dec_humed_7_rate_2, mean_dec_humed_8_rate_2, mean_dec_humed_9_rate_2]\n",
    "mean_inc_surf = [\"soil_surface\", mean_inc_surf_water_rate,\n",
    "                    std_inc_surf_humed_1_rate, std_inc_surf_humed_2_rate, std_inc_surf_humed_3_rate, \n",
    "                    std_inc_surf_humed_4_rate, std_inc_surf_humed_5_rate, std_inc_surf_humed_6_rate, \n",
    "                    std_inc_surf_humed_7_rate, std_inc_surf_humed_8_rate, std_inc_surf_humed_9_rate, ]\n",
    "mean_dec_surf = [\"soil_surface\", mean_dec_surf_water_rate,\n",
    "                    std_dec_surf_humed_1_rate, std_dec_surf_humed_2_rate, std_dec_surf_humed_3_rate, \n",
    "                    std_dec_surf_humed_4_rate, std_dec_surf_humed_5_rate, std_dec_surf_humed_6_rate, \n",
    "                    std_dec_surf_humed_7_rate, std_dec_surf_humed_8_rate, std_dec_surf_humed_9_rate, ]"
   ]
  },
  {
   "cell_type": "code",
   "execution_count": 448,
   "metadata": {},
   "outputs": [
    {
     "data": {
      "text/plain": [
       "['diff_time',\n",
       " 'water_level',\n",
       " 'humd_1',\n",
       " 'humd_2',\n",
       " 'humd_3',\n",
       " 'humd_4',\n",
       " 'humd_5',\n",
       " 'humd_6',\n",
       " 'humd_7',\n",
       " 'humd_8',\n",
       " 'humd_9']"
      ]
     },
     "execution_count": 448,
     "metadata": {},
     "output_type": "execute_result"
    }
   ],
   "source": [
    "colnam = sub_irr_2_colnam.values.tolist()\n",
    "colnam"
   ]
  },
  {
   "cell_type": "code",
   "execution_count": 449,
   "metadata": {},
   "outputs": [
    {
     "data": {
      "text/plain": [
       "['class',\n",
       " 'water_level',\n",
       " 'humd_1',\n",
       " 'humd_2',\n",
       " 'humd_3',\n",
       " 'humd_4',\n",
       " 'humd_5',\n",
       " 'humd_6',\n",
       " 'humd_7',\n",
       " 'humd_8',\n",
       " 'humd_9']"
      ]
     },
     "execution_count": 449,
     "metadata": {},
     "output_type": "execute_result"
    }
   ],
   "source": [
    "colnam[0] = \"class\"\n",
    "colnam"
   ]
  },
  {
   "cell_type": "code",
   "execution_count": 426,
   "metadata": {},
   "outputs": [
    {
     "data": {
      "text/plain": [
       "Index(['class', 'water_level', 'humd_1', 'humd_2', 'humd_3', 'humd_4',\n",
       "       'humd_5', 'humd_6', 'humd_7', 'humd_8', 'humd_9'],\n",
       "      dtype='object')"
      ]
     },
     "execution_count": 426,
     "metadata": {},
     "output_type": "execute_result"
    }
   ],
   "source": [
    "mean_positive_rate = pd.DataFrame([mean_inc_sub_irr_1, mean_inc_sub_irr_2, mean_inc_surf])\n",
    "mean_positive_rate.columns = colnam\n",
    "mean_positive_rate.columns"
   ]
  },
  {
   "cell_type": "code",
   "execution_count": 427,
   "metadata": {},
   "outputs": [
    {
     "data": {
      "text/plain": [
       "Index(['class', 'water_level', 'humd_1', 'humd_2', 'humd_3', 'humd_4',\n",
       "       'humd_5', 'humd_6', 'humd_7', 'humd_8', 'humd_9'],\n",
       "      dtype='object')"
      ]
     },
     "execution_count": 427,
     "metadata": {},
     "output_type": "execute_result"
    }
   ],
   "source": [
    "mean_negative_rate = pd.DataFrame([mean_dec_sub_irr_1, mean_dec_sub_irr_2, mean_dec_surf])\n",
    "mean_negative_rate.columns = colnam\n",
    "mean_negative_rate.columns "
   ]
  },
  {
   "cell_type": "code",
   "execution_count": 466,
   "metadata": {},
   "outputs": [
    {
     "data": {
      "text/plain": [
       "Index(['class', 'water_level', 'humd_1', 'humd_2', 'humd_3', 'humd_4',\n",
       "       'humd_5', 'humd_6', 'humd_7', 'humd_8', 'humd_9'],\n",
       "      dtype='object')"
      ]
     },
     "execution_count": 466,
     "metadata": {},
     "output_type": "execute_result"
    }
   ],
   "source": [
    "positive_rate = pd.concat([positive_sub_irr_1_rate, positive_sub_irr_2_rate, positive_surf_sub_irr_rate], axis=0)\n",
    "positive_rate.columns = colnam\n",
    "positive_rate.columns"
   ]
  },
  {
   "cell_type": "code",
   "execution_count": 468,
   "metadata": {},
   "outputs": [
    {
     "data": {
      "text/plain": [
       "Index(['class', 'water_level', 'humd_1', 'humd_2', 'humd_3', 'humd_4',\n",
       "       'humd_5', 'humd_6', 'humd_7', 'humd_8', 'humd_9'],\n",
       "      dtype='object')"
      ]
     },
     "execution_count": 468,
     "metadata": {},
     "output_type": "execute_result"
    }
   ],
   "source": [
    "negative_rate = pd.concat([negative_sub_irr_1_rate, negative_sub_irr_2_rate, negative_surf_sub_irr_rate], axis=0)\n",
    "negative_rate.columns = colnam\n",
    "negative_rate.columns "
   ]
  },
  {
   "cell_type": "code",
   "execution_count": 430,
   "metadata": {},
   "outputs": [
    {
     "name": "stderr",
     "output_type": "stream",
     "text": [
      "C:\\Users\\newth\\AppData\\Roaming\\Python\\Python39\\site-packages\\plotly\\express\\_core.py:271: FutureWarning:\n",
      "\n",
      "The frame.append method is deprecated and will be removed from pandas in a future version. Use pandas.concat instead.\n",
      "\n",
      "C:\\Users\\newth\\AppData\\Roaming\\Python\\Python39\\site-packages\\plotly\\express\\_core.py:271: FutureWarning:\n",
      "\n",
      "The frame.append method is deprecated and will be removed from pandas in a future version. Use pandas.concat instead.\n",
      "\n",
      "C:\\Users\\newth\\AppData\\Roaming\\Python\\Python39\\site-packages\\plotly\\express\\_core.py:271: FutureWarning:\n",
      "\n",
      "The frame.append method is deprecated and will be removed from pandas in a future version. Use pandas.concat instead.\n",
      "\n"
     ]
    },
    {
     "data": {
      "application/vnd.plotly.v1+json": {
       "config": {
        "plotlyServerURL": "https://plot.ly"
       },
       "data": [
        {
         "hovertemplate": "class=sub_irr_1<br>value=%{r}<br>variable=%{theta}<extra></extra>",
         "legendgroup": "sub_irr_1",
         "line": {
          "color": "#636efa",
          "dash": "solid"
         },
         "marker": {
          "symbol": "circle"
         },
         "mode": "lines",
         "name": "sub_irr_1",
         "r": [
          0.00022771960790676318,
          0.00011951237395847634,
          0.00014280203521867596,
          0.00013184593623378414,
          0.00013695554499303553,
          0.0001076450596688633,
          0.00024602265271440584,
          0.0003484209545192217,
          0.0004200719399074615,
          0.00016375508662804856,
          0.00022771960790676318
         ],
         "showlegend": true,
         "subplot": "polar",
         "theta": [
          "water_level",
          "humd_1",
          "humd_2",
          "humd_3",
          "humd_4",
          "humd_5",
          "humd_6",
          "humd_7",
          "humd_8",
          "humd_9",
          "water_level"
         ],
         "type": "scatterpolar"
        },
        {
         "hovertemplate": "class=sub_irr_2<br>value=%{r}<br>variable=%{theta}<extra></extra>",
         "legendgroup": "sub_irr_2",
         "line": {
          "color": "#EF553B",
          "dash": "solid"
         },
         "marker": {
          "symbol": "circle"
         },
         "mode": "lines",
         "name": "sub_irr_2",
         "r": [
          0.000368262504517001,
          0.008475333478099041,
          0.0025612804078563927,
          0.00018872283661589798,
          0.00011895998393018216,
          0.00014160731520857533,
          0.00011321205798046945,
          0.00029633404437195873,
          0.00010468870692185337,
          0.00011120796847281984,
          0.000368262504517001
         ],
         "showlegend": true,
         "subplot": "polar",
         "theta": [
          "water_level",
          "humd_1",
          "humd_2",
          "humd_3",
          "humd_4",
          "humd_5",
          "humd_6",
          "humd_7",
          "humd_8",
          "humd_9",
          "water_level"
         ],
         "type": "scatterpolar"
        },
        {
         "hovertemplate": "class=soil_surface<br>value=%{r}<br>variable=%{theta}<extra></extra>",
         "legendgroup": "soil_surface",
         "line": {
          "color": "#00cc96",
          "dash": "solid"
         },
         "marker": {
          "symbol": "circle"
         },
         "mode": "lines",
         "name": "soil_surface",
         "r": [
          0.0002593862144711986,
          0.02213629067215757,
          0.023175773412222943,
          0.00007649538530854481,
          0.00021614909943804735,
          0.04625332952525258,
          0.00022796286569824078,
          0.014335326821457084,
          0.01709702764855162,
          0.010224582219547688,
          0.0002593862144711986
         ],
         "showlegend": true,
         "subplot": "polar",
         "theta": [
          "water_level",
          "humd_1",
          "humd_2",
          "humd_3",
          "humd_4",
          "humd_5",
          "humd_6",
          "humd_7",
          "humd_8",
          "humd_9",
          "water_level"
         ],
         "type": "scatterpolar"
        }
       ],
       "layout": {
        "legend": {
         "title": {
          "text": "class"
         },
         "tracegroupgap": 0
        },
        "margin": {
         "t": 60
        },
        "polar": {
         "angularaxis": {
          "direction": "clockwise",
          "rotation": 90
         },
         "domain": {
          "x": [
           0,
           1
          ],
          "y": [
           0,
           1
          ]
         }
        },
        "template": {
         "data": {
          "bar": [
           {
            "error_x": {
             "color": "#2a3f5f"
            },
            "error_y": {
             "color": "#2a3f5f"
            },
            "marker": {
             "line": {
              "color": "#E5ECF6",
              "width": 0.5
             },
             "pattern": {
              "fillmode": "overlay",
              "size": 10,
              "solidity": 0.2
             }
            },
            "type": "bar"
           }
          ],
          "barpolar": [
           {
            "marker": {
             "line": {
              "color": "#E5ECF6",
              "width": 0.5
             },
             "pattern": {
              "fillmode": "overlay",
              "size": 10,
              "solidity": 0.2
             }
            },
            "type": "barpolar"
           }
          ],
          "carpet": [
           {
            "aaxis": {
             "endlinecolor": "#2a3f5f",
             "gridcolor": "white",
             "linecolor": "white",
             "minorgridcolor": "white",
             "startlinecolor": "#2a3f5f"
            },
            "baxis": {
             "endlinecolor": "#2a3f5f",
             "gridcolor": "white",
             "linecolor": "white",
             "minorgridcolor": "white",
             "startlinecolor": "#2a3f5f"
            },
            "type": "carpet"
           }
          ],
          "choropleth": [
           {
            "colorbar": {
             "outlinewidth": 0,
             "ticks": ""
            },
            "type": "choropleth"
           }
          ],
          "contour": [
           {
            "colorbar": {
             "outlinewidth": 0,
             "ticks": ""
            },
            "colorscale": [
             [
              0,
              "#0d0887"
             ],
             [
              0.1111111111111111,
              "#46039f"
             ],
             [
              0.2222222222222222,
              "#7201a8"
             ],
             [
              0.3333333333333333,
              "#9c179e"
             ],
             [
              0.4444444444444444,
              "#bd3786"
             ],
             [
              0.5555555555555556,
              "#d8576b"
             ],
             [
              0.6666666666666666,
              "#ed7953"
             ],
             [
              0.7777777777777778,
              "#fb9f3a"
             ],
             [
              0.8888888888888888,
              "#fdca26"
             ],
             [
              1,
              "#f0f921"
             ]
            ],
            "type": "contour"
           }
          ],
          "contourcarpet": [
           {
            "colorbar": {
             "outlinewidth": 0,
             "ticks": ""
            },
            "type": "contourcarpet"
           }
          ],
          "heatmap": [
           {
            "colorbar": {
             "outlinewidth": 0,
             "ticks": ""
            },
            "colorscale": [
             [
              0,
              "#0d0887"
             ],
             [
              0.1111111111111111,
              "#46039f"
             ],
             [
              0.2222222222222222,
              "#7201a8"
             ],
             [
              0.3333333333333333,
              "#9c179e"
             ],
             [
              0.4444444444444444,
              "#bd3786"
             ],
             [
              0.5555555555555556,
              "#d8576b"
             ],
             [
              0.6666666666666666,
              "#ed7953"
             ],
             [
              0.7777777777777778,
              "#fb9f3a"
             ],
             [
              0.8888888888888888,
              "#fdca26"
             ],
             [
              1,
              "#f0f921"
             ]
            ],
            "type": "heatmap"
           }
          ],
          "heatmapgl": [
           {
            "colorbar": {
             "outlinewidth": 0,
             "ticks": ""
            },
            "colorscale": [
             [
              0,
              "#0d0887"
             ],
             [
              0.1111111111111111,
              "#46039f"
             ],
             [
              0.2222222222222222,
              "#7201a8"
             ],
             [
              0.3333333333333333,
              "#9c179e"
             ],
             [
              0.4444444444444444,
              "#bd3786"
             ],
             [
              0.5555555555555556,
              "#d8576b"
             ],
             [
              0.6666666666666666,
              "#ed7953"
             ],
             [
              0.7777777777777778,
              "#fb9f3a"
             ],
             [
              0.8888888888888888,
              "#fdca26"
             ],
             [
              1,
              "#f0f921"
             ]
            ],
            "type": "heatmapgl"
           }
          ],
          "histogram": [
           {
            "marker": {
             "pattern": {
              "fillmode": "overlay",
              "size": 10,
              "solidity": 0.2
             }
            },
            "type": "histogram"
           }
          ],
          "histogram2d": [
           {
            "colorbar": {
             "outlinewidth": 0,
             "ticks": ""
            },
            "colorscale": [
             [
              0,
              "#0d0887"
             ],
             [
              0.1111111111111111,
              "#46039f"
             ],
             [
              0.2222222222222222,
              "#7201a8"
             ],
             [
              0.3333333333333333,
              "#9c179e"
             ],
             [
              0.4444444444444444,
              "#bd3786"
             ],
             [
              0.5555555555555556,
              "#d8576b"
             ],
             [
              0.6666666666666666,
              "#ed7953"
             ],
             [
              0.7777777777777778,
              "#fb9f3a"
             ],
             [
              0.8888888888888888,
              "#fdca26"
             ],
             [
              1,
              "#f0f921"
             ]
            ],
            "type": "histogram2d"
           }
          ],
          "histogram2dcontour": [
           {
            "colorbar": {
             "outlinewidth": 0,
             "ticks": ""
            },
            "colorscale": [
             [
              0,
              "#0d0887"
             ],
             [
              0.1111111111111111,
              "#46039f"
             ],
             [
              0.2222222222222222,
              "#7201a8"
             ],
             [
              0.3333333333333333,
              "#9c179e"
             ],
             [
              0.4444444444444444,
              "#bd3786"
             ],
             [
              0.5555555555555556,
              "#d8576b"
             ],
             [
              0.6666666666666666,
              "#ed7953"
             ],
             [
              0.7777777777777778,
              "#fb9f3a"
             ],
             [
              0.8888888888888888,
              "#fdca26"
             ],
             [
              1,
              "#f0f921"
             ]
            ],
            "type": "histogram2dcontour"
           }
          ],
          "mesh3d": [
           {
            "colorbar": {
             "outlinewidth": 0,
             "ticks": ""
            },
            "type": "mesh3d"
           }
          ],
          "parcoords": [
           {
            "line": {
             "colorbar": {
              "outlinewidth": 0,
              "ticks": ""
             }
            },
            "type": "parcoords"
           }
          ],
          "pie": [
           {
            "automargin": true,
            "type": "pie"
           }
          ],
          "scatter": [
           {
            "fillpattern": {
             "fillmode": "overlay",
             "size": 10,
             "solidity": 0.2
            },
            "type": "scatter"
           }
          ],
          "scatter3d": [
           {
            "line": {
             "colorbar": {
              "outlinewidth": 0,
              "ticks": ""
             }
            },
            "marker": {
             "colorbar": {
              "outlinewidth": 0,
              "ticks": ""
             }
            },
            "type": "scatter3d"
           }
          ],
          "scattercarpet": [
           {
            "marker": {
             "colorbar": {
              "outlinewidth": 0,
              "ticks": ""
             }
            },
            "type": "scattercarpet"
           }
          ],
          "scattergeo": [
           {
            "marker": {
             "colorbar": {
              "outlinewidth": 0,
              "ticks": ""
             }
            },
            "type": "scattergeo"
           }
          ],
          "scattergl": [
           {
            "marker": {
             "colorbar": {
              "outlinewidth": 0,
              "ticks": ""
             }
            },
            "type": "scattergl"
           }
          ],
          "scattermapbox": [
           {
            "marker": {
             "colorbar": {
              "outlinewidth": 0,
              "ticks": ""
             }
            },
            "type": "scattermapbox"
           }
          ],
          "scatterpolar": [
           {
            "marker": {
             "colorbar": {
              "outlinewidth": 0,
              "ticks": ""
             }
            },
            "type": "scatterpolar"
           }
          ],
          "scatterpolargl": [
           {
            "marker": {
             "colorbar": {
              "outlinewidth": 0,
              "ticks": ""
             }
            },
            "type": "scatterpolargl"
           }
          ],
          "scatterternary": [
           {
            "marker": {
             "colorbar": {
              "outlinewidth": 0,
              "ticks": ""
             }
            },
            "type": "scatterternary"
           }
          ],
          "surface": [
           {
            "colorbar": {
             "outlinewidth": 0,
             "ticks": ""
            },
            "colorscale": [
             [
              0,
              "#0d0887"
             ],
             [
              0.1111111111111111,
              "#46039f"
             ],
             [
              0.2222222222222222,
              "#7201a8"
             ],
             [
              0.3333333333333333,
              "#9c179e"
             ],
             [
              0.4444444444444444,
              "#bd3786"
             ],
             [
              0.5555555555555556,
              "#d8576b"
             ],
             [
              0.6666666666666666,
              "#ed7953"
             ],
             [
              0.7777777777777778,
              "#fb9f3a"
             ],
             [
              0.8888888888888888,
              "#fdca26"
             ],
             [
              1,
              "#f0f921"
             ]
            ],
            "type": "surface"
           }
          ],
          "table": [
           {
            "cells": {
             "fill": {
              "color": "#EBF0F8"
             },
             "line": {
              "color": "white"
             }
            },
            "header": {
             "fill": {
              "color": "#C8D4E3"
             },
             "line": {
              "color": "white"
             }
            },
            "type": "table"
           }
          ]
         },
         "layout": {
          "annotationdefaults": {
           "arrowcolor": "#2a3f5f",
           "arrowhead": 0,
           "arrowwidth": 1
          },
          "autotypenumbers": "strict",
          "coloraxis": {
           "colorbar": {
            "outlinewidth": 0,
            "ticks": ""
           }
          },
          "colorscale": {
           "diverging": [
            [
             0,
             "#8e0152"
            ],
            [
             0.1,
             "#c51b7d"
            ],
            [
             0.2,
             "#de77ae"
            ],
            [
             0.3,
             "#f1b6da"
            ],
            [
             0.4,
             "#fde0ef"
            ],
            [
             0.5,
             "#f7f7f7"
            ],
            [
             0.6,
             "#e6f5d0"
            ],
            [
             0.7,
             "#b8e186"
            ],
            [
             0.8,
             "#7fbc41"
            ],
            [
             0.9,
             "#4d9221"
            ],
            [
             1,
             "#276419"
            ]
           ],
           "sequential": [
            [
             0,
             "#0d0887"
            ],
            [
             0.1111111111111111,
             "#46039f"
            ],
            [
             0.2222222222222222,
             "#7201a8"
            ],
            [
             0.3333333333333333,
             "#9c179e"
            ],
            [
             0.4444444444444444,
             "#bd3786"
            ],
            [
             0.5555555555555556,
             "#d8576b"
            ],
            [
             0.6666666666666666,
             "#ed7953"
            ],
            [
             0.7777777777777778,
             "#fb9f3a"
            ],
            [
             0.8888888888888888,
             "#fdca26"
            ],
            [
             1,
             "#f0f921"
            ]
           ],
           "sequentialminus": [
            [
             0,
             "#0d0887"
            ],
            [
             0.1111111111111111,
             "#46039f"
            ],
            [
             0.2222222222222222,
             "#7201a8"
            ],
            [
             0.3333333333333333,
             "#9c179e"
            ],
            [
             0.4444444444444444,
             "#bd3786"
            ],
            [
             0.5555555555555556,
             "#d8576b"
            ],
            [
             0.6666666666666666,
             "#ed7953"
            ],
            [
             0.7777777777777778,
             "#fb9f3a"
            ],
            [
             0.8888888888888888,
             "#fdca26"
            ],
            [
             1,
             "#f0f921"
            ]
           ]
          },
          "colorway": [
           "#636efa",
           "#EF553B",
           "#00cc96",
           "#ab63fa",
           "#FFA15A",
           "#19d3f3",
           "#FF6692",
           "#B6E880",
           "#FF97FF",
           "#FECB52"
          ],
          "font": {
           "color": "#2a3f5f"
          },
          "geo": {
           "bgcolor": "white",
           "lakecolor": "white",
           "landcolor": "#E5ECF6",
           "showlakes": true,
           "showland": true,
           "subunitcolor": "white"
          },
          "hoverlabel": {
           "align": "left"
          },
          "hovermode": "closest",
          "mapbox": {
           "style": "light"
          },
          "paper_bgcolor": "white",
          "plot_bgcolor": "#E5ECF6",
          "polar": {
           "angularaxis": {
            "gridcolor": "white",
            "linecolor": "white",
            "ticks": ""
           },
           "bgcolor": "#E5ECF6",
           "radialaxis": {
            "gridcolor": "white",
            "linecolor": "white",
            "ticks": ""
           }
          },
          "scene": {
           "xaxis": {
            "backgroundcolor": "#E5ECF6",
            "gridcolor": "white",
            "gridwidth": 2,
            "linecolor": "white",
            "showbackground": true,
            "ticks": "",
            "zerolinecolor": "white"
           },
           "yaxis": {
            "backgroundcolor": "#E5ECF6",
            "gridcolor": "white",
            "gridwidth": 2,
            "linecolor": "white",
            "showbackground": true,
            "ticks": "",
            "zerolinecolor": "white"
           },
           "zaxis": {
            "backgroundcolor": "#E5ECF6",
            "gridcolor": "white",
            "gridwidth": 2,
            "linecolor": "white",
            "showbackground": true,
            "ticks": "",
            "zerolinecolor": "white"
           }
          },
          "shapedefaults": {
           "line": {
            "color": "#2a3f5f"
           }
          },
          "ternary": {
           "aaxis": {
            "gridcolor": "white",
            "linecolor": "white",
            "ticks": ""
           },
           "baxis": {
            "gridcolor": "white",
            "linecolor": "white",
            "ticks": ""
           },
           "bgcolor": "#E5ECF6",
           "caxis": {
            "gridcolor": "white",
            "linecolor": "white",
            "ticks": ""
           }
          },
          "title": {
           "x": 0.05
          },
          "xaxis": {
           "automargin": true,
           "gridcolor": "white",
           "linecolor": "white",
           "ticks": "",
           "title": {
            "standoff": 15
           },
           "zerolinecolor": "white",
           "zerolinewidth": 2
          },
          "yaxis": {
           "automargin": true,
           "gridcolor": "white",
           "linecolor": "white",
           "ticks": "",
           "title": {
            "standoff": 15
           },
           "zerolinecolor": "white",
           "zerolinewidth": 2
          }
         }
        }
       }
      }
     },
     "metadata": {},
     "output_type": "display_data"
    }
   ],
   "source": [
    "model_result_linepolar(mean_positive_rate, 'class')"
   ]
  },
  {
   "cell_type": "code",
   "execution_count": 431,
   "metadata": {},
   "outputs": [
    {
     "name": "stderr",
     "output_type": "stream",
     "text": [
      "C:\\Users\\newth\\AppData\\Roaming\\Python\\Python39\\site-packages\\plotly\\express\\_core.py:271: FutureWarning:\n",
      "\n",
      "The frame.append method is deprecated and will be removed from pandas in a future version. Use pandas.concat instead.\n",
      "\n",
      "C:\\Users\\newth\\AppData\\Roaming\\Python\\Python39\\site-packages\\plotly\\express\\_core.py:271: FutureWarning:\n",
      "\n",
      "The frame.append method is deprecated and will be removed from pandas in a future version. Use pandas.concat instead.\n",
      "\n",
      "C:\\Users\\newth\\AppData\\Roaming\\Python\\Python39\\site-packages\\plotly\\express\\_core.py:271: FutureWarning:\n",
      "\n",
      "The frame.append method is deprecated and will be removed from pandas in a future version. Use pandas.concat instead.\n",
      "\n"
     ]
    },
    {
     "data": {
      "application/vnd.plotly.v1+json": {
       "config": {
        "plotlyServerURL": "https://plot.ly"
       },
       "data": [
        {
         "hovertemplate": "class=sub_irr_1<br>value=%{r}<br>variable=%{theta}<extra></extra>",
         "legendgroup": "sub_irr_1",
         "line": {
          "color": "#636efa",
          "dash": "solid"
         },
         "marker": {
          "symbol": "circle"
         },
         "mode": "lines",
         "name": "sub_irr_1",
         "r": [
          -0.00022284954690962044,
          -0.0001480593976948582,
          -0.0007412267746686538,
          -0.0001453644428474423,
          -0.0003511588202065976,
          -0.00032156617851374357,
          -0.00036113886395989597,
          -0.00030792198502392284,
          -0.0006142240827557979,
          -0.00031789313675375814,
          -0.00022284954690962044
         ],
         "showlegend": true,
         "subplot": "polar",
         "theta": [
          "water_level",
          "humd_1",
          "humd_2",
          "humd_3",
          "humd_4",
          "humd_5",
          "humd_6",
          "humd_7",
          "humd_8",
          "humd_9",
          "water_level"
         ],
         "type": "scatterpolar"
        },
        {
         "hovertemplate": "class=sub_irr_2<br>value=%{r}<br>variable=%{theta}<extra></extra>",
         "legendgroup": "sub_irr_2",
         "line": {
          "color": "#EF553B",
          "dash": "solid"
         },
         "marker": {
          "symbol": "circle"
         },
         "mode": "lines",
         "name": "sub_irr_2",
         "r": [
          -0.00032111238073807824,
          -0.0011028380908431558,
          -0.0006935280963319632,
          -0.00011367585349741569,
          -0.00009475702135154292,
          -0.00009503696351883914,
          -0.00009890415022296875,
          -0.00019686395860221364,
          -0.00012137257472404737,
          -0.00010275200765273422,
          -0.00032111238073807824
         ],
         "showlegend": true,
         "subplot": "polar",
         "theta": [
          "water_level",
          "humd_1",
          "humd_2",
          "humd_3",
          "humd_4",
          "humd_5",
          "humd_6",
          "humd_7",
          "humd_8",
          "humd_9",
          "water_level"
         ],
         "type": "scatterpolar"
        },
        {
         "hovertemplate": "class=soil_surface<br>value=%{r}<br>variable=%{theta}<extra></extra>",
         "legendgroup": "soil_surface",
         "line": {
          "color": "#00cc96",
          "dash": "solid"
         },
         "marker": {
          "symbol": "circle"
         },
         "mode": "lines",
         "name": "soil_surface",
         "r": [
          -0.00019646664410159632,
          0.007527703449643169,
          0.010639178979974004,
          0.001060461153843924,
          0.000056670417363225846,
          0.05025343723605187,
          0.00003302457452211198,
          0.01184239137300079,
          0.008502562635030988,
          0.01777736673701323,
          -0.00019646664410159632
         ],
         "showlegend": true,
         "subplot": "polar",
         "theta": [
          "water_level",
          "humd_1",
          "humd_2",
          "humd_3",
          "humd_4",
          "humd_5",
          "humd_6",
          "humd_7",
          "humd_8",
          "humd_9",
          "water_level"
         ],
         "type": "scatterpolar"
        }
       ],
       "layout": {
        "legend": {
         "title": {
          "text": "class"
         },
         "tracegroupgap": 0
        },
        "margin": {
         "t": 60
        },
        "polar": {
         "angularaxis": {
          "direction": "clockwise",
          "rotation": 90
         },
         "domain": {
          "x": [
           0,
           1
          ],
          "y": [
           0,
           1
          ]
         }
        },
        "template": {
         "data": {
          "bar": [
           {
            "error_x": {
             "color": "#2a3f5f"
            },
            "error_y": {
             "color": "#2a3f5f"
            },
            "marker": {
             "line": {
              "color": "#E5ECF6",
              "width": 0.5
             },
             "pattern": {
              "fillmode": "overlay",
              "size": 10,
              "solidity": 0.2
             }
            },
            "type": "bar"
           }
          ],
          "barpolar": [
           {
            "marker": {
             "line": {
              "color": "#E5ECF6",
              "width": 0.5
             },
             "pattern": {
              "fillmode": "overlay",
              "size": 10,
              "solidity": 0.2
             }
            },
            "type": "barpolar"
           }
          ],
          "carpet": [
           {
            "aaxis": {
             "endlinecolor": "#2a3f5f",
             "gridcolor": "white",
             "linecolor": "white",
             "minorgridcolor": "white",
             "startlinecolor": "#2a3f5f"
            },
            "baxis": {
             "endlinecolor": "#2a3f5f",
             "gridcolor": "white",
             "linecolor": "white",
             "minorgridcolor": "white",
             "startlinecolor": "#2a3f5f"
            },
            "type": "carpet"
           }
          ],
          "choropleth": [
           {
            "colorbar": {
             "outlinewidth": 0,
             "ticks": ""
            },
            "type": "choropleth"
           }
          ],
          "contour": [
           {
            "colorbar": {
             "outlinewidth": 0,
             "ticks": ""
            },
            "colorscale": [
             [
              0,
              "#0d0887"
             ],
             [
              0.1111111111111111,
              "#46039f"
             ],
             [
              0.2222222222222222,
              "#7201a8"
             ],
             [
              0.3333333333333333,
              "#9c179e"
             ],
             [
              0.4444444444444444,
              "#bd3786"
             ],
             [
              0.5555555555555556,
              "#d8576b"
             ],
             [
              0.6666666666666666,
              "#ed7953"
             ],
             [
              0.7777777777777778,
              "#fb9f3a"
             ],
             [
              0.8888888888888888,
              "#fdca26"
             ],
             [
              1,
              "#f0f921"
             ]
            ],
            "type": "contour"
           }
          ],
          "contourcarpet": [
           {
            "colorbar": {
             "outlinewidth": 0,
             "ticks": ""
            },
            "type": "contourcarpet"
           }
          ],
          "heatmap": [
           {
            "colorbar": {
             "outlinewidth": 0,
             "ticks": ""
            },
            "colorscale": [
             [
              0,
              "#0d0887"
             ],
             [
              0.1111111111111111,
              "#46039f"
             ],
             [
              0.2222222222222222,
              "#7201a8"
             ],
             [
              0.3333333333333333,
              "#9c179e"
             ],
             [
              0.4444444444444444,
              "#bd3786"
             ],
             [
              0.5555555555555556,
              "#d8576b"
             ],
             [
              0.6666666666666666,
              "#ed7953"
             ],
             [
              0.7777777777777778,
              "#fb9f3a"
             ],
             [
              0.8888888888888888,
              "#fdca26"
             ],
             [
              1,
              "#f0f921"
             ]
            ],
            "type": "heatmap"
           }
          ],
          "heatmapgl": [
           {
            "colorbar": {
             "outlinewidth": 0,
             "ticks": ""
            },
            "colorscale": [
             [
              0,
              "#0d0887"
             ],
             [
              0.1111111111111111,
              "#46039f"
             ],
             [
              0.2222222222222222,
              "#7201a8"
             ],
             [
              0.3333333333333333,
              "#9c179e"
             ],
             [
              0.4444444444444444,
              "#bd3786"
             ],
             [
              0.5555555555555556,
              "#d8576b"
             ],
             [
              0.6666666666666666,
              "#ed7953"
             ],
             [
              0.7777777777777778,
              "#fb9f3a"
             ],
             [
              0.8888888888888888,
              "#fdca26"
             ],
             [
              1,
              "#f0f921"
             ]
            ],
            "type": "heatmapgl"
           }
          ],
          "histogram": [
           {
            "marker": {
             "pattern": {
              "fillmode": "overlay",
              "size": 10,
              "solidity": 0.2
             }
            },
            "type": "histogram"
           }
          ],
          "histogram2d": [
           {
            "colorbar": {
             "outlinewidth": 0,
             "ticks": ""
            },
            "colorscale": [
             [
              0,
              "#0d0887"
             ],
             [
              0.1111111111111111,
              "#46039f"
             ],
             [
              0.2222222222222222,
              "#7201a8"
             ],
             [
              0.3333333333333333,
              "#9c179e"
             ],
             [
              0.4444444444444444,
              "#bd3786"
             ],
             [
              0.5555555555555556,
              "#d8576b"
             ],
             [
              0.6666666666666666,
              "#ed7953"
             ],
             [
              0.7777777777777778,
              "#fb9f3a"
             ],
             [
              0.8888888888888888,
              "#fdca26"
             ],
             [
              1,
              "#f0f921"
             ]
            ],
            "type": "histogram2d"
           }
          ],
          "histogram2dcontour": [
           {
            "colorbar": {
             "outlinewidth": 0,
             "ticks": ""
            },
            "colorscale": [
             [
              0,
              "#0d0887"
             ],
             [
              0.1111111111111111,
              "#46039f"
             ],
             [
              0.2222222222222222,
              "#7201a8"
             ],
             [
              0.3333333333333333,
              "#9c179e"
             ],
             [
              0.4444444444444444,
              "#bd3786"
             ],
             [
              0.5555555555555556,
              "#d8576b"
             ],
             [
              0.6666666666666666,
              "#ed7953"
             ],
             [
              0.7777777777777778,
              "#fb9f3a"
             ],
             [
              0.8888888888888888,
              "#fdca26"
             ],
             [
              1,
              "#f0f921"
             ]
            ],
            "type": "histogram2dcontour"
           }
          ],
          "mesh3d": [
           {
            "colorbar": {
             "outlinewidth": 0,
             "ticks": ""
            },
            "type": "mesh3d"
           }
          ],
          "parcoords": [
           {
            "line": {
             "colorbar": {
              "outlinewidth": 0,
              "ticks": ""
             }
            },
            "type": "parcoords"
           }
          ],
          "pie": [
           {
            "automargin": true,
            "type": "pie"
           }
          ],
          "scatter": [
           {
            "fillpattern": {
             "fillmode": "overlay",
             "size": 10,
             "solidity": 0.2
            },
            "type": "scatter"
           }
          ],
          "scatter3d": [
           {
            "line": {
             "colorbar": {
              "outlinewidth": 0,
              "ticks": ""
             }
            },
            "marker": {
             "colorbar": {
              "outlinewidth": 0,
              "ticks": ""
             }
            },
            "type": "scatter3d"
           }
          ],
          "scattercarpet": [
           {
            "marker": {
             "colorbar": {
              "outlinewidth": 0,
              "ticks": ""
             }
            },
            "type": "scattercarpet"
           }
          ],
          "scattergeo": [
           {
            "marker": {
             "colorbar": {
              "outlinewidth": 0,
              "ticks": ""
             }
            },
            "type": "scattergeo"
           }
          ],
          "scattergl": [
           {
            "marker": {
             "colorbar": {
              "outlinewidth": 0,
              "ticks": ""
             }
            },
            "type": "scattergl"
           }
          ],
          "scattermapbox": [
           {
            "marker": {
             "colorbar": {
              "outlinewidth": 0,
              "ticks": ""
             }
            },
            "type": "scattermapbox"
           }
          ],
          "scatterpolar": [
           {
            "marker": {
             "colorbar": {
              "outlinewidth": 0,
              "ticks": ""
             }
            },
            "type": "scatterpolar"
           }
          ],
          "scatterpolargl": [
           {
            "marker": {
             "colorbar": {
              "outlinewidth": 0,
              "ticks": ""
             }
            },
            "type": "scatterpolargl"
           }
          ],
          "scatterternary": [
           {
            "marker": {
             "colorbar": {
              "outlinewidth": 0,
              "ticks": ""
             }
            },
            "type": "scatterternary"
           }
          ],
          "surface": [
           {
            "colorbar": {
             "outlinewidth": 0,
             "ticks": ""
            },
            "colorscale": [
             [
              0,
              "#0d0887"
             ],
             [
              0.1111111111111111,
              "#46039f"
             ],
             [
              0.2222222222222222,
              "#7201a8"
             ],
             [
              0.3333333333333333,
              "#9c179e"
             ],
             [
              0.4444444444444444,
              "#bd3786"
             ],
             [
              0.5555555555555556,
              "#d8576b"
             ],
             [
              0.6666666666666666,
              "#ed7953"
             ],
             [
              0.7777777777777778,
              "#fb9f3a"
             ],
             [
              0.8888888888888888,
              "#fdca26"
             ],
             [
              1,
              "#f0f921"
             ]
            ],
            "type": "surface"
           }
          ],
          "table": [
           {
            "cells": {
             "fill": {
              "color": "#EBF0F8"
             },
             "line": {
              "color": "white"
             }
            },
            "header": {
             "fill": {
              "color": "#C8D4E3"
             },
             "line": {
              "color": "white"
             }
            },
            "type": "table"
           }
          ]
         },
         "layout": {
          "annotationdefaults": {
           "arrowcolor": "#2a3f5f",
           "arrowhead": 0,
           "arrowwidth": 1
          },
          "autotypenumbers": "strict",
          "coloraxis": {
           "colorbar": {
            "outlinewidth": 0,
            "ticks": ""
           }
          },
          "colorscale": {
           "diverging": [
            [
             0,
             "#8e0152"
            ],
            [
             0.1,
             "#c51b7d"
            ],
            [
             0.2,
             "#de77ae"
            ],
            [
             0.3,
             "#f1b6da"
            ],
            [
             0.4,
             "#fde0ef"
            ],
            [
             0.5,
             "#f7f7f7"
            ],
            [
             0.6,
             "#e6f5d0"
            ],
            [
             0.7,
             "#b8e186"
            ],
            [
             0.8,
             "#7fbc41"
            ],
            [
             0.9,
             "#4d9221"
            ],
            [
             1,
             "#276419"
            ]
           ],
           "sequential": [
            [
             0,
             "#0d0887"
            ],
            [
             0.1111111111111111,
             "#46039f"
            ],
            [
             0.2222222222222222,
             "#7201a8"
            ],
            [
             0.3333333333333333,
             "#9c179e"
            ],
            [
             0.4444444444444444,
             "#bd3786"
            ],
            [
             0.5555555555555556,
             "#d8576b"
            ],
            [
             0.6666666666666666,
             "#ed7953"
            ],
            [
             0.7777777777777778,
             "#fb9f3a"
            ],
            [
             0.8888888888888888,
             "#fdca26"
            ],
            [
             1,
             "#f0f921"
            ]
           ],
           "sequentialminus": [
            [
             0,
             "#0d0887"
            ],
            [
             0.1111111111111111,
             "#46039f"
            ],
            [
             0.2222222222222222,
             "#7201a8"
            ],
            [
             0.3333333333333333,
             "#9c179e"
            ],
            [
             0.4444444444444444,
             "#bd3786"
            ],
            [
             0.5555555555555556,
             "#d8576b"
            ],
            [
             0.6666666666666666,
             "#ed7953"
            ],
            [
             0.7777777777777778,
             "#fb9f3a"
            ],
            [
             0.8888888888888888,
             "#fdca26"
            ],
            [
             1,
             "#f0f921"
            ]
           ]
          },
          "colorway": [
           "#636efa",
           "#EF553B",
           "#00cc96",
           "#ab63fa",
           "#FFA15A",
           "#19d3f3",
           "#FF6692",
           "#B6E880",
           "#FF97FF",
           "#FECB52"
          ],
          "font": {
           "color": "#2a3f5f"
          },
          "geo": {
           "bgcolor": "white",
           "lakecolor": "white",
           "landcolor": "#E5ECF6",
           "showlakes": true,
           "showland": true,
           "subunitcolor": "white"
          },
          "hoverlabel": {
           "align": "left"
          },
          "hovermode": "closest",
          "mapbox": {
           "style": "light"
          },
          "paper_bgcolor": "white",
          "plot_bgcolor": "#E5ECF6",
          "polar": {
           "angularaxis": {
            "gridcolor": "white",
            "linecolor": "white",
            "ticks": ""
           },
           "bgcolor": "#E5ECF6",
           "radialaxis": {
            "gridcolor": "white",
            "linecolor": "white",
            "ticks": ""
           }
          },
          "scene": {
           "xaxis": {
            "backgroundcolor": "#E5ECF6",
            "gridcolor": "white",
            "gridwidth": 2,
            "linecolor": "white",
            "showbackground": true,
            "ticks": "",
            "zerolinecolor": "white"
           },
           "yaxis": {
            "backgroundcolor": "#E5ECF6",
            "gridcolor": "white",
            "gridwidth": 2,
            "linecolor": "white",
            "showbackground": true,
            "ticks": "",
            "zerolinecolor": "white"
           },
           "zaxis": {
            "backgroundcolor": "#E5ECF6",
            "gridcolor": "white",
            "gridwidth": 2,
            "linecolor": "white",
            "showbackground": true,
            "ticks": "",
            "zerolinecolor": "white"
           }
          },
          "shapedefaults": {
           "line": {
            "color": "#2a3f5f"
           }
          },
          "ternary": {
           "aaxis": {
            "gridcolor": "white",
            "linecolor": "white",
            "ticks": ""
           },
           "baxis": {
            "gridcolor": "white",
            "linecolor": "white",
            "ticks": ""
           },
           "bgcolor": "#E5ECF6",
           "caxis": {
            "gridcolor": "white",
            "linecolor": "white",
            "ticks": ""
           }
          },
          "title": {
           "x": 0.05
          },
          "xaxis": {
           "automargin": true,
           "gridcolor": "white",
           "linecolor": "white",
           "ticks": "",
           "title": {
            "standoff": 15
           },
           "zerolinecolor": "white",
           "zerolinewidth": 2
          },
          "yaxis": {
           "automargin": true,
           "gridcolor": "white",
           "linecolor": "white",
           "ticks": "",
           "title": {
            "standoff": 15
           },
           "zerolinecolor": "white",
           "zerolinewidth": 2
          }
         }
        }
       }
      }
     },
     "metadata": {},
     "output_type": "display_data"
    }
   ],
   "source": [
    "model_result_linepolar(mean_negative_rate, 'class')"
   ]
  },
  {
   "cell_type": "code",
   "execution_count": null,
   "metadata": {},
   "outputs": [],
   "source": []
  }
 ],
 "metadata": {
  "kernelspec": {
   "display_name": "Python 3",
   "language": "python",
   "name": "python3"
  },
  "language_info": {
   "codemirror_mode": {
    "name": "ipython",
    "version": 3
   },
   "file_extension": ".py",
   "mimetype": "text/x-python",
   "name": "python",
   "nbconvert_exporter": "python",
   "pygments_lexer": "ipython3",
   "version": "3.9.13"
  },
  "orig_nbformat": 4,
  "vscode": {
   "interpreter": {
    "hash": "c347c8f9a7ef94e4c9e03b4513be7835ed18f45b99a2a817fb579f408b867b16"
   }
  }
 },
 "nbformat": 4,
 "nbformat_minor": 2
}
